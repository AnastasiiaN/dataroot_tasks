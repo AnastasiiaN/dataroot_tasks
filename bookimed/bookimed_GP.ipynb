{
 "cells": [
  {
   "cell_type": "code",
   "execution_count": 15,
   "metadata": {
    "collapsed": false
   },
   "outputs": [],
   "source": [
    "import json\n",
    "import matplotlib.pyplot as plt\n",
    "import numpy as np\n",
    "from sklearn import datasets, linear_model\n",
    "from sklearn import preprocessing\n",
    "from sklearn import cross_validation"
   ]
  },
  {
   "cell_type": "code",
   "execution_count": 2,
   "metadata": {
    "collapsed": true
   },
   "outputs": [],
   "source": [
    "FEATURES = [\n",
    "    \"top_oper_cli\", \n",
    "    \"gen_oper_cli\",\n",
    "    \"top_proc_cli\", \n",
    "    \"gen_proc_cli\", \n",
    "]"
   ]
  },
  {
   "cell_type": "code",
   "execution_count": null,
   "metadata": {
    "collapsed": false
   },
   "outputs": [],
   "source": [
    "clinic_ids = [i['id'] for i in estims_data]\n",
    "#estims_data.pop(clinic_ids.index('0'))\n",
    "#print sorted(clinic_ids)\n",
    "#print sorted([i['id'] for i in cancer_data])"
   ]
  },
  {
   "cell_type": "code",
   "execution_count": 3,
   "metadata": {
    "collapsed": false
   },
   "outputs": [],
   "source": [
    "def extract_data(clinic, clinic_estim):\n",
    "    all_proc = clinic['procedures']['diagnostics'] + clinic['procedures']['operations']\n",
    "    X = []\n",
    "    X+=[sum([int(i['top']) for i in clinic['procedures']['operations']])] #top_oper_cli\n",
    "    X+=[len(clinic['procedures']['operations'])] #gen_oper_cli\n",
    "    X+=[sum([int(i['top']) for i in all_proc])] #top_proc_cli\n",
    "    X+=[len(all_proc)] #gen_proc_cli\n",
    "    y=int(clinic_estim['variety'])\n",
    "    return [X, y]"
   ]
  },
  {
   "cell_type": "code",
   "execution_count": 4,
   "metadata": {
    "collapsed": true
   },
   "outputs": [],
   "source": [
    "def get_X_y_from(t_data):\n",
    "    clinic_ids = [i['id'] for i in t_data]\n",
    "    t_cleaned_data = [extract_data(cancer_data[clinic_ids.index(i['id'])], i) for i in estims_data]\n",
    "    X = [i[0] for i in t_cleaned_data]\n",
    "    y = [i[1] for i in t_cleaned_data]\n",
    "    #X = np.array([i[0] for i in t_cleaned_data])\n",
    "    #y = np.array([i[1] for i in t_cleaned_data])\n",
    "    return X,y"
   ]
  },
  {
   "cell_type": "code",
   "execution_count": 5,
   "metadata": {
    "collapsed": true
   },
   "outputs": [],
   "source": [
    "def normale(mat):\n",
    "    for i in [0,1,2,3]:\n",
    "        mass = [k[i] for k in mat]\n",
    "        m = max(mass)\n",
    "        if m>0:\n",
    "            for j in mat:\n",
    "                j[i] = round(j[i] / float(m), 4)"
   ]
  },
  {
   "cell_type": "code",
   "execution_count": 6,
   "metadata": {
    "collapsed": true
   },
   "outputs": [],
   "source": [
    "def process_with(X,y, info=False, short=False, return_short = False, new_coef = [], ts=0.2):\n",
    "    train_X, test_X, train_y, test_y = cross_validation.train_test_split(X, y, test_size = ts, random_state = 3)\n",
    "    regr = linear_model.LinearRegression(fit_intercept=False, normalize=False)\n",
    "    if new_coef != []:\n",
    "        print \"new coefs\"\n",
    "        regr.coef_ = new_coef\n",
    "    regr.fit(train_X, train_y)\n",
    "    if info:\n",
    "        print \"Total: %d, train: %d, test: %d\" %(len(X), len(train_X), len(test_X))\n",
    "        print(\"Residual sum of squares: %.2f\"% np.mean((regr.predict(test_X) - test_y) ** 2))\n",
    "        print(\"Train absolute: %.2f\"% np.mean(abs(regr.predict(train_X) - train_y)))\n",
    "        print(\"Test absolute: %.2f\"% np.mean(abs(regr.predict(test_X) - test_y)))\n",
    "        print(\"Absolute to mean: %.2f%%\"% (np.mean(abs(regr.predict(test_X) - test_y))/np.mean(test_y)*100))\n",
    "        print('Train variance score: %.2f' % regr.score(train_X, train_y))\n",
    "        print('Test variance score: %.2f' % regr.score(test_X, test_y))\n",
    "    if short:\n",
    "        print \"Total: %d, train: %d, test: %d\" %(len(X), len(train_X), len(test_X))\n",
    "        print \"%.3f\" % np.mean(abs(regr.predict(train_X) - train_y))\n",
    "        print \"%.3f\" % np.mean(abs(regr.predict(test_X) - test_y))\n",
    "        print \"%.3f\" % (np.mean(abs(regr.predict(test_X) - test_y))/np.mean(test_y)*100)\n",
    "        print \"%.3f\" % regr.score(train_X, train_y)\n",
    "        print \"%.3f\" % regr.score(test_X, test_y)\n",
    "    if return_short:\n",
    "        return np.mean(abs(regr.predict(test_X) - test_y)),regr.score(test_X, test_y)\n",
    "    for i in regr.coef_:\n",
    "        print \"%.3f\" % i\n",
    "    #print \"%.3f\" % regr.intercept_\n",
    "    return regr"
   ]
  },
  {
   "cell_type": "code",
   "execution_count": 21,
   "metadata": {
    "collapsed": true
   },
   "outputs": [],
   "source": [
    "X_all, y_all = [], []\n",
    "\n",
    "with open('./max/estims.json') as data_file: \n",
    "    estims_data = json.load(data_file)[2]['clinics']\n",
    "with open('./max/меланома_все.json') as data_file: #2\n",
    "    cancer_data = json.load(data_file)[0]['clinics']\n",
    "X_1, y_1 = get_X_y_from(cancer_data)\n",
    "X_all+=X_1\n",
    "y_all+=y_1\n",
    "    \n",
    "with open('./max/estims.json') as data_file: \n",
    "    estims_data = json.load(data_file)[0]['clinics']\n",
    "with open('./max/рак_груди_все.json') as data_file: #0\n",
    "    cancer_data = json.load(data_file)[0]['clinics']\n",
    "X_2, y_2 = get_X_y_from(cancer_data)\n",
    "X_all+=X_2\n",
    "y_all+=y_2\n",
    "    \n",
    "with open('./max/estims.json') as data_file: \n",
    "    estims_data = json.load(data_file)[4]['clinics']    \n",
    "with open('./max/рак_простаты_все.json') as data_file: #4\n",
    "    cancer_data = json.load(data_file)[0]['clinics']\n",
    "clinic_ids = [i['id'] for i in estims_data]\n",
    "estims_data.pop(clinic_ids.index('0'))\n",
    "X_3, y_3 = get_X_y_from(cancer_data)\n",
    "X_all+=X_3\n",
    "y_all+=y_3\n",
    "\n",
    "with open('./max/estims.json') as data_file: \n",
    "    estims_data = json.load(data_file)[1]['clinics']     \n",
    "with open('./max/рак_шейки_матки_все.json') as data_file: #1\n",
    "    cancer_data = json.load(data_file)[0]['clinics']\n",
    "X_4, y_4 = get_X_y_from(cancer_data)\n",
    "X_all+=X_4\n",
    "y_all+=y_4\n",
    "    \n",
    "with open('./max/estims.json') as data_file: \n",
    "    estims_data = json.load(data_file)[3]['clinics']         \n",
    "with open('./max/рак_щитовидки_все.json') as data_file: #3\n",
    "    cancer_data = json.load(data_file)[0]['clinics']\n",
    "X_5, y_5 = get_X_y_from(cancer_data)\n",
    "X_all+=X_5\n",
    "y_all+=y_5\n",
    "\n",
    "normale(X_all)"
   ]
  },
  {
   "cell_type": "code",
   "execution_count": null,
   "metadata": {
    "collapsed": false
   },
   "outputs": [],
   "source": [
    "X, y = get_X_y_from(cancer_data)"
   ]
  },
  {
   "cell_type": "code",
   "execution_count": 12,
   "metadata": {
    "collapsed": false
   },
   "outputs": [
    {
     "name": "stdout",
     "output_type": "stream",
     "text": [
      "Total: 49, train: 44, test: 5\n",
      "1.564\n",
      "1.393\n",
      "16.988\n",
      "-0.090\n",
      "-12.650\n",
      "-1.547\n",
      "-0.204\n",
      "1.837\n",
      "0.139\n",
      "\n",
      "Total: 49, train: 39, test: 10\n",
      "1.551\n",
      "1.634\n",
      "19.685\n",
      "0.004\n",
      "-4.523\n",
      "-1.455\n",
      "-0.262\n",
      "1.641\n",
      "0.185\n",
      "\n",
      "Total: 49, train: 34, test: 15\n",
      "1.540\n",
      "1.562\n",
      "19.369\n",
      "0.103\n",
      "-4.457\n",
      "-1.182\n",
      "-0.238\n",
      "1.624\n",
      "0.171\n",
      "\n",
      "Total: 49, train: 29, test: 20\n",
      "1.582\n",
      "1.494\n",
      "18.216\n",
      "0.147\n",
      "-3.782\n",
      "-1.319\n",
      "-0.292\n",
      "1.609\n",
      "0.205\n",
      "\n"
     ]
    }
   ],
   "source": [
    "for i in range(1,5):\n",
    "    regr = process_with(X_all, y_all, short=True, ts=i/10.0)\n",
    "    print"
   ]
  },
  {
   "cell_type": "code",
   "execution_count": 22,
   "metadata": {
    "collapsed": false
   },
   "outputs": [
    {
     "name": "stdout",
     "output_type": "stream",
     "text": [
      "Total: 49, train: 44, test: 5\n",
      "Residual sum of squares: 2.18\n",
      "Train absolute: 1.56\n",
      "Test absolute: 1.39\n",
      "Absolute to mean: 16.99%\n",
      "Train variance score: -0.09\n",
      "Test variance score: -12.65\n",
      "-3.094\n",
      "-7.545\n",
      "11.025\n",
      "9.011\n"
     ]
    }
   ],
   "source": [
    "regr = process_with(X_all, y_all, info=True, ts=0.1)"
   ]
  },
  {
   "cell_type": "code",
   "execution_count": 26,
   "metadata": {
    "collapsed": false
   },
   "outputs": [
    {
     "name": "stdout",
     "output_type": "stream",
     "text": [
      "Real: 10.000000 \t Predicted: 7.559590\n",
      "[1.0, 1.0, 0.8333, 1.0]\n",
      "7.5591325\n",
      "\n",
      "Real: 8.000000 \t Predicted: 7.005449\n",
      "[1.0, 0.5405, 0.8333, 0.5538]\n",
      "7.0053518\n",
      "\n",
      "Real: 9.000000 \t Predicted: 10.828023\n",
      "[0.5, 0.4595, 0.8333, 0.7385]\n",
      "10.8278285\n",
      "\n",
      "Real: 10.000000 \t Predicted: 8.241414\n",
      "[0.5, 0.5405, 0.6667, 0.7231]\n",
      "8.2411491\n",
      "\n",
      "Real: 9.000000 \t Predicted: 6.887133\n",
      "[0.5, 0.2973, 0.6667, 0.3692]\n",
      "6.8871002\n",
      "\n",
      "Real: 8.000000 \t Predicted: 9.531203\n",
      "[0.5, 0.5946, 0.8333, 0.7077]\n",
      "9.5309602\n",
      "\n",
      "Real: 8.000000 \t Predicted: 6.539607\n",
      "[0.0, 0.3784, 0.5, 0.4308]\n",
      "6.5394108\n",
      "\n",
      "Real: 8.000000 \t Predicted: 8.781522\n",
      "[0.5, 0.2162, 0.8333, 0.3077]\n",
      "8.7815882\n",
      "\n",
      "Real: 7.000000 \t Predicted: 9.323570\n",
      "[1.0, 0.973, 1.0, 0.9692]\n",
      "9.3231762\n",
      "\n",
      "Real: 9.000000 \t Predicted: 8.731816\n",
      "[0.5, 0.8108, 0.8333, 0.8]\n",
      "8.7314465\n",
      "\n"
     ]
    }
   ],
   "source": [
    "import warnings\n",
    "warnings.filterwarnings(\"ignore\")\n",
    "for i in range(0,len(y_4)):\n",
    "    print \"Real: %f \\t Predicted: %f\" %(y_4[i], regr.predict(X_4[i]))\n",
    "    print X_4[i]\n",
    "    print sum(np.array(X_4[i]) * np.array([-3.094, -7.545, 11.025, 9.011]))\n",
    "    print"
   ]
  },
  {
   "cell_type": "code",
   "execution_count": 10,
   "metadata": {
    "collapsed": false
   },
   "outputs": [
    {
     "data": {
      "text/plain": [
       "[[1.0, 1.0, 0.8333, 1.0],\n",
       " [0.5, 0.5405, 0.6667, 0.7231],\n",
       " [0.5, 0.4595, 0.8333, 0.7385],\n",
       " [0.5, 0.2973, 0.6667, 0.3692],\n",
       " [1.0, 0.973, 1.0, 0.9692],\n",
       " [1.0, 0.5405, 0.8333, 0.5538],\n",
       " [0.0, 0.1081, 0.5, 0.2462],\n",
       " [0.5, 0.8108, 0.8333, 0.8],\n",
       " [0.5, 0.5946, 0.8333, 0.7077],\n",
       " [0.0, 0.3784, 0.5, 0.4308],\n",
       " [0.5, 0.5405, 0.6667, 0.7231],\n",
       " [1.0, 0.973, 1.0, 0.9692],\n",
       " [0.0, 0.1351, 0.5, 0.2],\n",
       " [0.5, 0.4595, 0.8333, 0.7385],\n",
       " [0.5, 0.2973, 0.6667, 0.3692],\n",
       " [1.0, 1.0, 0.8333, 1.0],\n",
       " [0.5, 0.5946, 0.8333, 0.7077],\n",
       " [0.0, 0.2162, 0.5, 0.3385],\n",
       " [0.0, 0.3784, 0.5, 0.4308],\n",
       " [0.0, 0.1622, 0.3333, 0.2769],\n",
       " [0.0, 0.1351, 0.0, 0.2],\n",
       " [0.0, 0.1892, 0.6667, 0.2923],\n",
       " [0.5, 0.5405, 0.6667, 0.7231],\n",
       " [1.0, 1.0, 0.8333, 1.0],\n",
       " [1.0, 0.973, 1.0, 0.9692],\n",
       " [0.5, 0.4595, 0.8333, 0.7385],\n",
       " [0.0, 0.2162, 0.1667, 0.1846],\n",
       " [0.5, 0.2973, 0.6667, 0.3692],\n",
       " [0.5, 0.8108, 0.8333, 0.8],\n",
       " [1.0, 1.0, 0.8333, 1.0],\n",
       " [1.0, 0.5405, 0.8333, 0.5538],\n",
       " [0.5, 0.4595, 0.8333, 0.7385],\n",
       " [0.5, 0.5405, 0.6667, 0.7231],\n",
       " [0.5, 0.2973, 0.6667, 0.3692],\n",
       " [0.5, 0.5946, 0.8333, 0.7077],\n",
       " [0.0, 0.3784, 0.5, 0.4308],\n",
       " [0.5, 0.2162, 0.8333, 0.3077],\n",
       " [1.0, 0.973, 1.0, 0.9692],\n",
       " [0.5, 0.8108, 0.8333, 0.8],\n",
       " [1.0, 1.0, 0.8333, 1.0],\n",
       " [0.5, 0.5405, 0.6667, 0.7231],\n",
       " [0.5, 0.4595, 0.8333, 0.7385],\n",
       " [0.5, 0.2973, 0.6667, 0.3692],\n",
       " [1.0, 0.973, 1.0, 0.9692],\n",
       " [0.5, 0.2162, 0.5, 0.1846],\n",
       " [1.0, 0.5405, 0.8333, 0.5538],\n",
       " [0.5, 0.5946, 0.8333, 0.7077],\n",
       " [0.5, 0.8108, 0.8333, 0.8],\n",
       " [0.0, 0.3784, 0.5, 0.4308]]"
      ]
     },
     "execution_count": 10,
     "metadata": {},
     "output_type": "execute_result"
    }
   ],
   "source": [
    "X_all"
   ]
  },
  {
   "cell_type": "code",
   "execution_count": null,
   "metadata": {
    "collapsed": true
   },
   "outputs": [],
   "source": []
  },
  {
   "cell_type": "code",
   "execution_count": 14,
   "metadata": {
    "collapsed": false
   },
   "outputs": [
    {
     "name": "stdout",
     "output_type": "stream",
     "text": [
      "Features sorted by their score:\n",
      "0.0\n",
      "4\n",
      "-1.3192\n",
      "-0.2916\n",
      "1.6089\n",
      "0.205\n"
     ]
    }
   ],
   "source": [
    "print \"Features sorted by their score:\"\n",
    "#f = sorted(zip(map(lambda x: round(x, 4), regr.coef_), FEATURES), reverse=True)\n",
    "f = zip(map(lambda x: round(x, 4), regr.coef_), FEATURES)\n",
    "print regr.intercept_\n",
    "print len(FEATURES)\n",
    "for i in f:\n",
    "    #print \"%4f \\t %s\" %(i[0], i[1])\n",
    "    print i[0]"
   ]
  },
  {
   "cell_type": "code",
   "execution_count": null,
   "metadata": {
    "collapsed": false
   },
   "outputs": [],
   "source": [
    "ind = [map(lambda x: x[1], f).index(i) for i in FEATURES]\n",
    "for i in ind:\n",
    "    print i+1"
   ]
  },
  {
   "cell_type": "code",
   "execution_count": null,
   "metadata": {
    "collapsed": false
   },
   "outputs": [],
   "source": [
    "plt.plot([i[22] for i in X])\n",
    "plt.show()"
   ]
  },
  {
   "cell_type": "code",
   "execution_count": null,
   "metadata": {
    "collapsed": false
   },
   "outputs": [],
   "source": [
    "print FEATURES[8]\n",
    "[i[22] for i in X]"
   ]
  },
  {
   "cell_type": "code",
   "execution_count": null,
   "metadata": {
    "collapsed": false
   },
   "outputs": [],
   "source": [
    "for k in range(0,26):\n",
    "    print FEATURES[k], 10 - [i[k] for i in X].count(0)"
   ]
  }
 ],
 "metadata": {
  "kernelspec": {
   "display_name": "Python 2",
   "language": "python",
   "name": "python2"
  },
  "language_info": {
   "codemirror_mode": {
    "name": "ipython",
    "version": 2
   },
   "file_extension": ".py",
   "mimetype": "text/x-python",
   "name": "python",
   "nbconvert_exporter": "python",
   "pygments_lexer": "ipython2",
   "version": "2.7.6"
  }
 },
 "nbformat": 4,
 "nbformat_minor": 0
}
