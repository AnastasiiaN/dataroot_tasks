{
 "cells": [
  {
   "cell_type": "code",
   "execution_count": 42,
   "metadata": {
    "collapsed": false
   },
   "outputs": [],
   "source": [
    "import json\n",
    "import matplotlib.pyplot as plt\n",
    "import numpy as np\n",
    "from sklearn import datasets, linear_model\n",
    "from sklearn import preprocessing\n",
    "from sklearn import cross_validation"
   ]
  },
  {
   "cell_type": "code",
   "execution_count": 2,
   "metadata": {
    "collapsed": true
   },
   "outputs": [],
   "source": [
    "FEATURES = [\n",
    " \"doc_top_diag\", \n",
    " \"doc_gen_diag\", \n",
    " \"doc_top_oper\", \n",
    " \"doc_gen_oper\", \n",
    "]"
   ]
  },
  {
   "cell_type": "code",
   "execution_count": null,
   "metadata": {
    "collapsed": false
   },
   "outputs": [],
   "source": [
    "clinic_ids = [i['id'] for i in estims_data]\n",
    "#estims_data.pop(clinic_ids.index('0'))\n",
    "#print sorted(clinic_ids)\n",
    "#print sorted([i['id'] for i in cancer_data])"
   ]
  },
  {
   "cell_type": "code",
   "execution_count": null,
   "metadata": {
    "collapsed": false
   },
   "outputs": [],
   "source": [
    "len(cancer_data[9]['doctors'])"
   ]
  },
  {
   "cell_type": "code",
   "execution_count": 3,
   "metadata": {
    "collapsed": true
   },
   "outputs": [],
   "source": [
    "def extract_data(clinic, clinic_estim):\n",
    "    all_proc = clinic['procedures']['diagnostics'] + clinic['procedures']['operations']\n",
    "    all_doc = clinic['doctors']\n",
    "    X = []\n",
    "    for doc in all_doc:\n",
    "        ids_diad = [i['id'] for i in doc['procedures']['diagnostics'] if i['top']=='1']\n",
    "        ids_oper = [i['id'] for i in doc['procedures']['operations'] if i['top']=='1']\n",
    "        X += [[\n",
    "            len(list(set(ids_diad))),\n",
    "            len(doc['procedures']['diagnostics']),\n",
    "            len(list(set(ids_oper))),\n",
    "            len(doc['procedures']['operations']),\n",
    "        ]]\n",
    "    y=[int(clinic_estim['experience'])] * len(all_doc)\n",
    "    return [X, y]"
   ]
  },
  {
   "cell_type": "code",
   "execution_count": 4,
   "metadata": {
    "collapsed": true
   },
   "outputs": [],
   "source": [
    "def normale(mat):\n",
    "    for i in [0,1,2,3]:\n",
    "        mass = [k[i] for k in mat]\n",
    "        m = max(mass)\n",
    "        if m>0:\n",
    "            for j in mat:\n",
    "                j[i] = round(j[i] / float(m), 4)"
   ]
  },
  {
   "cell_type": "code",
   "execution_count": 5,
   "metadata": {
    "collapsed": true
   },
   "outputs": [],
   "source": [
    "def get_X_y_from(t_data):\n",
    "    clinic_ids = [i['id'] for i in t_data]\n",
    "    t_cleaned_data = [extract_data(cancer_data[clinic_ids.index(i['id'])], i) for i in estims_data]\n",
    "    X = sum([i[0] for i in t_cleaned_data],[])\n",
    "    y = sum([i[1] for i in t_cleaned_data],[])\n",
    "    return X,y"
   ]
  },
  {
   "cell_type": "code",
   "execution_count": 6,
   "metadata": {
    "collapsed": true
   },
   "outputs": [],
   "source": [
    "def process_with(X,y, info=False, short=False, return_short = False, new_coef = [], ts=0.2):\n",
    "    train_X, test_X, train_y, test_y = cross_validation.train_test_split(X, y, test_size = ts, random_state = 3)\n",
    "    regr = linear_model.LinearRegression(fit_intercept=True, normalize=False)\n",
    "    if new_coef != []:\n",
    "        print \"new coefs\"\n",
    "        regr.coef_ = new_coef\n",
    "    regr.fit(train_X, train_y)\n",
    "    if info:\n",
    "        print \"Total: %d, train: %d, test: %d\" %(len(X), len(train_X), len(test_X))\n",
    "        print(\"Residual sum of squares: %.2f\"% np.mean((regr.predict(test_X) - test_y) ** 2))\n",
    "        print(\"Train absolute: %.2f\"% np.mean(abs(regr.predict(train_X) - train_y)))\n",
    "        print(\"Test absolute: %.2f\"% np.mean(abs(regr.predict(test_X) - test_y)))\n",
    "        print(\"Absolute to mean: %.2f%%\"% (np.mean(abs(regr.predict(test_X) - test_y))/np.mean(test_y)*100))\n",
    "        print('Train variance score: %.2f' % regr.score(train_X, train_y))\n",
    "        print('Test variance score: %.2f' % regr.score(test_X, test_y))\n",
    "    if short:\n",
    "        print \"Total: %d, train: %d, test: %d\" %(len(X), len(train_X), len(test_X))\n",
    "        print \"%.3f\" % np.mean(abs(regr.predict(train_X) - train_y))\n",
    "        print \"%.3f\" % np.mean(abs(regr.predict(test_X) - test_y))\n",
    "        print \"%.3f\" % (np.mean(abs(regr.predict(test_X) - test_y))/np.mean(test_y)*100)\n",
    "        print \"%.3f\" % regr.score(train_X, train_y)\n",
    "        print \"%.3f\" % regr.score(test_X, test_y)\n",
    "    if return_short:\n",
    "        return np.mean(abs(regr.predict(test_X) - test_y)),regr.score(test_X, test_y)\n",
    "    for i in regr.coef_:\n",
    "        print \"%.3f\" % i\n",
    "    print \"%.3f\" % regr.intercept_\n",
    "    return regr"
   ]
  },
  {
   "cell_type": "code",
   "execution_count": 40,
   "metadata": {
    "collapsed": false
   },
   "outputs": [],
   "source": [
    "X_all, y_all = [], []\n",
    "\n",
    "with open('./max/estims.json') as data_file: \n",
    "    estims_data = json.load(data_file)[2]['clinics']\n",
    "with open('./max/меланома_все.json') as data_file: #2\n",
    "    cancer_data = json.load(data_file)[0]['clinics']\n",
    "X_1, y_1 = get_X_y_from(cancer_data)\n",
    "X_all+=X_1\n",
    "y_all+=y_1\n",
    "    \n",
    "with open('./max/estims.json') as data_file: \n",
    "    estims_data = json.load(data_file)[0]['clinics']\n",
    "with open('./max/рак_груди_все.json') as data_file: #0\n",
    "    cancer_data = json.load(data_file)[0]['clinics']\n",
    "X_2, y_2 = get_X_y_from(cancer_data)\n",
    "X_all+=X_2\n",
    "y_all+=y_2\n",
    "    \n",
    "with open('./max/estims.json') as data_file: \n",
    "    estims_data = json.load(data_file)[4]['clinics']    \n",
    "with open('./max/рак_простаты_все.json') as data_file: #4\n",
    "    cancer_data = json.load(data_file)[0]['clinics']\n",
    "clinic_ids = [i['id'] for i in estims_data]\n",
    "estims_data.pop(clinic_ids.index('0'))\n",
    "X_3, y_3 = get_X_y_from(cancer_data)\n",
    "X_all+=X_3\n",
    "y_all+=y_3\n",
    "\n",
    "with open('./max/estims.json') as data_file: \n",
    "    estims_data = json.load(data_file)[1]['clinics']     \n",
    "with open('./max/рак_шейки_матки_все.json') as data_file: #1\n",
    "    cancer_data = json.load(data_file)[0]['clinics']\n",
    "X_4, y_4 = get_X_y_from(cancer_data)\n",
    "X_all+=X_4\n",
    "y_all+=y_4\n",
    "    \n",
    "with open('./max/estims.json') as data_file: \n",
    "    estims_data = json.load(data_file)[3]['clinics']         \n",
    "with open('./max/рак_щитовидки_все.json') as data_file: #3\n",
    "    cancer_data = json.load(data_file)[0]['clinics']\n",
    "X_5, y_5 = get_X_y_from(cancer_data)\n",
    "X_all+=X_5\n",
    "y_all+=y_5\n",
    "\n",
    "normale(X_all)"
   ]
  },
  {
   "cell_type": "code",
   "execution_count": null,
   "metadata": {
    "collapsed": true
   },
   "outputs": [],
   "source": [
    "X, y = get_X_y_from(cancer_data)"
   ]
  },
  {
   "cell_type": "code",
   "execution_count": 41,
   "metadata": {
    "collapsed": false
   },
   "outputs": [
    {
     "data": {
      "text/plain": [
       "64"
      ]
     },
     "execution_count": 41,
     "metadata": {},
     "output_type": "execute_result"
    },
    {
     "data": {
      "text/plain": [
       "64"
      ]
     },
     "execution_count": 41,
     "metadata": {},
     "output_type": "execute_result"
    }
   ],
   "source": [
    "len(X_all)"
   ]
  },
  {
   "cell_type": "code",
   "execution_count": 39,
   "metadata": {
    "collapsed": false
   },
   "outputs": [
    {
     "name": "stdout",
     "output_type": "stream",
     "text": [
      "1\n",
      "Total: 54, train: 48, test: 6\n",
      "0.614\n",
      "0.625\n",
      "7.356\n",
      "0.414\n",
      "-0.069\n",
      "-1.956\n",
      "-1.345\n",
      "0.592\n",
      "1.162\n",
      "9.195\n",
      "\n",
      "2\n",
      "Total: 54, train: 43, test: 11\n",
      "0.569\n",
      "0.782\n",
      "9.058\n",
      "0.496\n",
      "-0.786\n",
      "-1.579\n",
      "-2.457\n",
      "0.831\n",
      "1.519\n",
      "9.283\n",
      "\n",
      "3\n",
      "Total: 54, train: 37, test: 17\n",
      "0.513\n",
      "0.843\n",
      "9.748\n",
      "0.585\n",
      "-0.524\n",
      "-1.788\n",
      "-2.317\n",
      "0.810\n",
      "1.385\n",
      "9.407\n",
      "\n",
      "4\n",
      "Total: 54, train: 32, test: 22\n",
      "0.553\n",
      "0.705\n",
      "8.125\n",
      "0.561\n",
      "-0.247\n",
      "-1.805\n",
      "-2.299\n",
      "0.819\n",
      "1.436\n",
      "9.376\n",
      "\n",
      "5\n",
      "Total: 54, train: 27, test: 27\n",
      "0.617\n",
      "0.611\n",
      "7.083\n",
      "0.519\n",
      "0.020\n",
      "-1.960\n",
      "-1.947\n",
      "0.803\n",
      "1.241\n",
      "9.392\n",
      "\n",
      "6\n",
      "Total: 54, train: 21, test: 33\n",
      "0.567\n",
      "0.646\n",
      "7.451\n",
      "0.566\n",
      "0.030\n",
      "-2.820\n",
      "-1.104\n",
      "0.827\n",
      "0.960\n",
      "9.471\n",
      "\n",
      "7\n",
      "Total: 54, train: 16, test: 38\n",
      "0.593\n",
      "0.658\n",
      "7.559\n",
      "0.554\n",
      "0.112\n",
      "-2.985\n",
      "-1.199\n",
      "0.850\n",
      "1.846\n",
      "9.046\n",
      "\n",
      "8\n",
      "Total: 54, train: 10, test: 44\n",
      "0.696\n",
      "0.728\n",
      "8.476\n",
      "0.412\n",
      "0.058\n",
      "-4.084\n",
      "2.232\n",
      "-0.223\n",
      "0.692\n",
      "9.042\n",
      "\n",
      "9\n",
      "Total: 54, train: 5, test: 49\n",
      "0.000\n",
      "7.356\n",
      "86.442\n",
      "1.000\n",
      "-116.078\n",
      "8.063\n",
      "-52.222\n",
      "18.069\n",
      "18.065\n",
      "12.009\n",
      "\n",
      "1\n",
      "Total: 54, train: 48, test: 6\n",
      "0.614\n",
      "0.625\n",
      "7.356\n",
      "0.414\n",
      "-0.069\n",
      "-1.956\n",
      "-1.345\n",
      "0.592\n",
      "1.162\n",
      "9.195\n",
      "\n",
      "2\n",
      "Total: 54, train: 43, test: 11\n",
      "0.569\n",
      "0.782\n",
      "9.058\n",
      "0.496\n",
      "-0.786\n",
      "-1.579\n",
      "-2.457\n",
      "0.831\n",
      "1.519\n",
      "9.283\n",
      "\n",
      "3\n",
      "Total: 54, train: 37, test: 17\n",
      "0.513\n",
      "0.843\n",
      "9.748\n",
      "0.585\n",
      "-0.524\n",
      "-1.788\n",
      "-2.317\n",
      "0.810\n",
      "1.385\n",
      "9.407\n",
      "\n",
      "4\n",
      "Total: 54, train: 32, test: 22\n",
      "0.553\n",
      "0.705\n",
      "8.125\n",
      "0.561\n",
      "-0.247\n",
      "-1.805\n",
      "-2.299\n",
      "0.819\n",
      "1.436\n",
      "9.376\n",
      "\n",
      "5\n",
      "Total: 54, train: 27, test: 27\n",
      "0.617\n",
      "0.611\n",
      "7.083\n",
      "0.519\n",
      "0.020\n",
      "-1.960\n",
      "-1.947\n",
      "0.803\n",
      "1.241\n",
      "9.392\n",
      "\n",
      "6\n",
      "Total: 54, train: 21, test: 33\n",
      "0.567\n",
      "0.646\n",
      "7.451\n",
      "0.566\n",
      "0.030\n",
      "-2.820\n",
      "-1.104\n",
      "0.827\n",
      "0.960\n",
      "9.471\n",
      "\n",
      "7\n",
      "Total: 54, train: 16, test: 38\n",
      "0.593\n",
      "0.658\n",
      "7.559\n",
      "0.554\n",
      "0.112\n",
      "-2.985\n",
      "-1.199\n",
      "0.850\n",
      "1.846\n",
      "9.046\n",
      "\n",
      "8\n",
      "Total: 54, train: 10, test: 44\n",
      "0.696\n",
      "0.728\n",
      "8.476\n",
      "0.412\n",
      "0.058\n",
      "-4.084\n",
      "2.232\n",
      "-0.223\n",
      "0.692\n",
      "9.042\n",
      "\n",
      "9\n",
      "Total: 54, train: 5, test: 49\n",
      "0.000\n",
      "7.356\n",
      "86.442\n",
      "1.000\n",
      "-116.078\n",
      "8.063\n",
      "-52.222\n",
      "18.069\n",
      "18.065\n",
      "12.009\n",
      "\n"
     ]
    }
   ],
   "source": [
    "for i in range(1,10):\n",
    "    print i\n",
    "    regr = process_with(X_all, y_all, short=True, ts=i/10.0)\n",
    "    print"
   ]
  },
  {
   "cell_type": "code",
   "execution_count": null,
   "metadata": {
    "collapsed": false
   },
   "outputs": [],
   "source": [
    "regr = process_with(X_all, y_all, info=True, ts=0.1)"
   ]
  },
  {
   "cell_type": "code",
   "execution_count": null,
   "metadata": {
    "collapsed": false
   },
   "outputs": [],
   "source": [
    "import warnings\n",
    "warnings.filterwarnings(\"ignore\")\n",
    "for i in range(0,len(y)):\n",
    "    print \"Real: %f \\t Predicted: %f\" %(y[i], regr.predict(X[i]))"
   ]
  },
  {
   "cell_type": "code",
   "execution_count": 27,
   "metadata": {
    "collapsed": false
   },
   "outputs": [
    {
     "name": "stdout",
     "output_type": "stream",
     "text": [
      "Features sorted by their score:\n",
      "8.92592592593\n",
      "4\n",
      "-0.550100 \t doc_top_diag\n",
      "-0.846200 \t doc_gen_diag\n",
      "0.000000 \t doc_top_oper\n",
      "2.333600 \t doc_gen_oper\n",
      "Features sorted by their score:\n",
      "8.92592592593\n",
      "4\n",
      "-0.550100 \t doc_top_diag\n",
      "-0.846200 \t doc_gen_diag\n",
      "0.000000 \t doc_top_oper\n",
      "2.333600 \t doc_gen_oper\n"
     ]
    }
   ],
   "source": [
    "print \"Features sorted by their score:\"\n",
    "#f = sorted(zip(map(lambda x: round(x, 4), regr.coef_), FEATURES), reverse=True)\n",
    "f = zip(map(lambda x: round(x, 4), regr.coef_), FEATURES)\n",
    "print regr.intercept_\n",
    "print len(FEATURES)\n",
    "for i in f:\n",
    "    print \"%4f \\t %s\" %(i[0], i[1])\n",
    "    #print i[0]"
   ]
  },
  {
   "cell_type": "code",
   "execution_count": null,
   "metadata": {
    "collapsed": false,
    "scrolled": true
   },
   "outputs": [],
   "source": [
    "X_all"
   ]
  },
  {
   "cell_type": "code",
   "execution_count": 38,
   "metadata": {
    "collapsed": false
   },
   "outputs": [
    {
     "ename": "ValueError",
     "evalue": "[0, 0, 0, 0] is not in list",
     "output_type": "error",
     "traceback": [
      "\u001b[1;31m---------------------------------------------------------------------------\u001b[0m",
      "\u001b[1;31mValueError\u001b[0m                                Traceback (most recent call last)",
      "\u001b[1;32m<ipython-input-38-159a104ba3f5>\u001b[0m in \u001b[0;36m<module>\u001b[1;34m()\u001b[0m\n\u001b[1;32m----> 1\u001b[1;33m \u001b[0mind\u001b[0m \u001b[1;33m=\u001b[0m \u001b[0mX_all\u001b[0m\u001b[1;33m.\u001b[0m\u001b[0mindex\u001b[0m\u001b[1;33m(\u001b[0m\u001b[1;33m[\u001b[0m\u001b[1;36m0\u001b[0m\u001b[1;33m,\u001b[0m\u001b[1;36m0\u001b[0m\u001b[1;33m,\u001b[0m\u001b[1;36m0\u001b[0m\u001b[1;33m,\u001b[0m\u001b[1;36m0\u001b[0m\u001b[1;33m]\u001b[0m\u001b[1;33m)\u001b[0m\u001b[1;33m\u001b[0m\u001b[0m\n\u001b[0m\u001b[0;32m      2\u001b[0m \u001b[0mX_all\u001b[0m\u001b[1;33m.\u001b[0m\u001b[0mpop\u001b[0m\u001b[1;33m(\u001b[0m\u001b[0mind\u001b[0m\u001b[1;33m)\u001b[0m\u001b[1;33m\u001b[0m\u001b[0m\n\u001b[0;32m      3\u001b[0m \u001b[0my_all\u001b[0m\u001b[1;33m.\u001b[0m\u001b[0mpop\u001b[0m\u001b[1;33m(\u001b[0m\u001b[0mind\u001b[0m\u001b[1;33m)\u001b[0m\u001b[1;33m\u001b[0m\u001b[0m\n",
      "\u001b[1;31mValueError\u001b[0m: [0, 0, 0, 0] is not in list"
     ]
    },
    {
     "ename": "ValueError",
     "evalue": "[0, 0, 0, 0] is not in list",
     "output_type": "error",
     "traceback": [
      "\u001b[1;31m---------------------------------------------------------------------------\u001b[0m",
      "\u001b[1;31mValueError\u001b[0m                                Traceback (most recent call last)",
      "\u001b[1;32m<ipython-input-38-159a104ba3f5>\u001b[0m in \u001b[0;36m<module>\u001b[1;34m()\u001b[0m\n\u001b[1;32m----> 1\u001b[1;33m \u001b[0mind\u001b[0m \u001b[1;33m=\u001b[0m \u001b[0mX_all\u001b[0m\u001b[1;33m.\u001b[0m\u001b[0mindex\u001b[0m\u001b[1;33m(\u001b[0m\u001b[1;33m[\u001b[0m\u001b[1;36m0\u001b[0m\u001b[1;33m,\u001b[0m\u001b[1;36m0\u001b[0m\u001b[1;33m,\u001b[0m\u001b[1;36m0\u001b[0m\u001b[1;33m,\u001b[0m\u001b[1;36m0\u001b[0m\u001b[1;33m]\u001b[0m\u001b[1;33m)\u001b[0m\u001b[1;33m\u001b[0m\u001b[0m\n\u001b[0m\u001b[0;32m      2\u001b[0m \u001b[0mX_all\u001b[0m\u001b[1;33m.\u001b[0m\u001b[0mpop\u001b[0m\u001b[1;33m(\u001b[0m\u001b[0mind\u001b[0m\u001b[1;33m)\u001b[0m\u001b[1;33m\u001b[0m\u001b[0m\n\u001b[0;32m      3\u001b[0m \u001b[0my_all\u001b[0m\u001b[1;33m.\u001b[0m\u001b[0mpop\u001b[0m\u001b[1;33m(\u001b[0m\u001b[0mind\u001b[0m\u001b[1;33m)\u001b[0m\u001b[1;33m\u001b[0m\u001b[0m\n",
      "\u001b[1;31mValueError\u001b[0m: [0, 0, 0, 0] is not in list"
     ]
    }
   ],
   "source": [
    "ind = X_all.index([0,0,0,0])\n",
    "X_all.pop(ind)\n",
    "y_all.pop(ind)"
   ]
  },
  {
   "cell_type": "code",
   "execution_count": null,
   "metadata": {
    "collapsed": false
   },
   "outputs": [],
   "source": [
    "coef = np.array([-0.7824,0.2034,0.0096,0.077,8.4162])\n",
    "for x in X:\n",
    "    print sum(x*coef[:-1])+coef[-1]\n"
   ]
  },
  {
   "cell_type": "code",
   "execution_count": null,
   "metadata": {
    "collapsed": false
   },
   "outputs": [],
   "source": [
    "ind = [map(lambda x: x[1], f).index(i) for i in FEATURES]\n",
    "for i in ind:\n",
    "    print i+1"
   ]
  },
  {
   "cell_type": "code",
   "execution_count": null,
   "metadata": {
    "collapsed": false
   },
   "outputs": [],
   "source": [
    "plt.plot([i[22] for i in X])\n",
    "plt.show()"
   ]
  },
  {
   "cell_type": "code",
   "execution_count": null,
   "metadata": {
    "collapsed": false
   },
   "outputs": [],
   "source": [
    "print FEATURES[8]\n",
    "[i[22] for i in X]"
   ]
  },
  {
   "cell_type": "code",
   "execution_count": null,
   "metadata": {
    "collapsed": false
   },
   "outputs": [],
   "source": [
    "for k in range(0,26):\n",
    "    print FEATURES[k], 10 - [i[k] for i in X].count(0)"
   ]
  }
 ],
 "metadata": {
  "kernelspec": {
   "display_name": "Python 2",
   "language": "python",
   "name": "python2"
  },
  "language_info": {
   "codemirror_mode": {
    "name": "ipython",
    "version": 2
   },
   "file_extension": ".py",
   "mimetype": "text/x-python",
   "name": "python",
   "nbconvert_exporter": "python",
   "pygments_lexer": "ipython2",
   "version": "2.7.6"
  }
 },
 "nbformat": 4,
 "nbformat_minor": 0
}
