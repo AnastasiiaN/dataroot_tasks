{
 "cells": [
  {
   "cell_type": "code",
   "execution_count": 1,
   "metadata": {
    "collapsed": false
   },
   "outputs": [],
   "source": [
    "import json\n",
    "import matplotlib.pyplot as plt\n",
    "import numpy as np\n",
    "from sklearn import datasets, linear_model\n",
    "from sklearn import preprocessing\n",
    "from sklearn import cross_validation"
   ]
  },
  {
   "cell_type": "code",
   "execution_count": 3,
   "metadata": {
    "collapsed": false
   },
   "outputs": [],
   "source": [
    "FEATURES = [\n",
    "    \"gd\",\n",
    "    \"ed\",\n",
    "    \"gp\",\n",
    "    \"isr\",\n",
    "#    \"views\", \n",
    "    \"large\", \n",
    "     \"top\", \n",
    "#    \"speed_level\",\n",
    "#    \"speed_level 1\",\n",
    "#    \"speed_level 2\",\n",
    "#    \"speed_level 3\",\n",
    "    \"price\"]"
   ]
  },
  {
   "cell_type": "code",
   "execution_count": 4,
   "metadata": {
    "collapsed": true
   },
   "outputs": [],
   "source": [
    "def get_speed_level(speed_level):\n",
    "    if speed_level == 1:\n",
    "        return  [1]\n",
    "        #return [1,0,0]\n",
    "        #print X[-1], speed_level\n",
    "    elif speed_level == 2:\n",
    "        return [0.4]\n",
    "        #return [0,1,0]\n",
    "        #print X[-1], speed_level\n",
    "    elif speed_level == 3:\n",
    "        return [0.1]\n",
    "        #return [0,0,1]\n",
    "        #print X[-1], speed_level\n",
    "    else:\n",
    "        return [0]\n",
    "        #return [0,0,0]\n",
    "        #print X[-1], speed_level"
   ]
  },
  {
   "cell_type": "code",
   "execution_count": 5,
   "metadata": {
    "collapsed": false
   },
   "outputs": [],
   "source": [
    "def extract_data(clinic, clinic_estim):\n",
    "    all_proc = clinic['procedures']['diagnostics'] + clinic['procedures']['operations']\n",
    "    all_doc = clinic['doctors']\n",
    "    X = []\n",
    "    for doc in all_doc:\n",
    "        X+=[[]]\n",
    "        #gd 0-7\n",
    "        X[-1]+=[doc['degree'].count(u'Профессор')]\n",
    "        X[-1]+=[int(doc['top'])]\n",
    "        X[-1]+=[len(doc['illnesses'])]\n",
    "        X[-1]+=[len(doc['languages'])]\n",
    "        X[-1]+=[int(doc['h_index'])]\n",
    "        X[-1]+=[int(doc['experience'])]\n",
    "        X[-1]+=[1]\n",
    "        #ed 7-12\n",
    "        ids_diad = [i['id'] for i in doc['procedures']['diagnostics'] if i['top']=='1']\n",
    "        ids_oper = [i['id'] for i in doc['procedures']['operations'] if i['top']=='1']\n",
    "        X[-1]+=[len(list(set(ids_diad)))]\n",
    "        X[-1]+=[len(doc['procedures']['diagnostics'])]\n",
    "        X[-1]+=[len(list(set(ids_oper)))]\n",
    "        X[-1]+=[len(doc['procedures']['operations'])]\n",
    "        X[-1]+=[1]\n",
    "        #gp 12-16\n",
    "        X[-1]+=[sum([int(i['top']) for i in all_proc])] #top_proc_cli\n",
    "        X[-1]+=[len(all_proc)] #gen_proc_cli\n",
    "        X[-1]+=[sum([int(i['top']) for i in clinic['procedures']['operations']])] #top_oper_cli\n",
    "        X[-1]+=[len(clinic['procedures']['operations'])] #gen_oper_cli\n",
    "        #\n",
    "        c_id = int(clinic['country_id'])\n",
    "        if c_id == 1:\n",
    "            X[-1]+=[1]\n",
    "        else:\n",
    "            X[-1]+=[0]\n",
    "        #X[-1]+=[int(clinic['views'])]\n",
    "        X[-1]+=[int(clinic['large'])]\n",
    "        X[-1]+=[int(clinic['top'])]\n",
    "        #X[-1]+=[get_speed_level(int(clinic['speed_level']))]\n",
    "        X[-1]+=[round(1-int(clinic_estim['price'])/10.0,4)]\n",
    "        \n",
    "    y=[int(clinic_estim['rating'])] * len(all_doc)\n",
    "    return [X, y]"
   ]
  },
  {
   "cell_type": "code",
   "execution_count": 15,
   "metadata": {
    "collapsed": true
   },
   "outputs": [],
   "source": [
    "def get_X_y_from(t_data):\n",
    "    clinic_ids = [i['id'] for i in t_data]\n",
    "    t_cleaned_data = [extract_data(cancer_data[clinic_ids.index(i['id'])], i) for i in estims_data]\n",
    "    X = sum([i[0] for i in t_cleaned_data],[])\n",
    "    y = sum([i[1] for i in t_cleaned_data],[])\n",
    "    return X,y"
   ]
  },
  {
   "cell_type": "code",
   "execution_count": 7,
   "metadata": {
    "collapsed": true
   },
   "outputs": [],
   "source": [
    "def normale(mat):\n",
    "    for i in range(0,len(mat[0])-1):\n",
    "        mass = [abs(k[i]) for k in mat]\n",
    "        m = max(mass)\n",
    "        if m>0:\n",
    "            for j in mat:\n",
    "                j[i] = round(j[i] / float(m), 4)"
   ]
  },
  {
   "cell_type": "code",
   "execution_count": 8,
   "metadata": {
    "collapsed": false
   },
   "outputs": [],
   "source": [
    "def pack(X):\n",
    "    gd = [0.06, 0.223, 0.372, 0.196, -0.135, 0.426, 8.37]\n",
    "    ed = [-2.82, -1.104, 0.827, 0.96, 9.471]\n",
    "    gp = [-3.094, -7.545, 11.025, 9.011]\n",
    "    new_X = []\n",
    "    for x in X:\n",
    "        new_X+= [sum([\n",
    "            [round(sum(np.array(gd)*np.array(x[0:7])),5)],\n",
    "            [round(sum(np.array(ed)*np.array(x[7:12])),5)],\n",
    "            [round(sum(np.array(gp)*np.array(x[12:16])),5)],\n",
    "            x[16:]\n",
    "        ],[])]\n",
    "    return new_X"
   ]
  },
  {
   "cell_type": "code",
   "execution_count": 9,
   "metadata": {
    "collapsed": true
   },
   "outputs": [],
   "source": [
    "def process_with(X,y, info=False, short=False, return_short = False, new_coef = [], ts=0.2):\n",
    "    train_X, test_X, train_y, test_y = cross_validation.train_test_split(X, y, test_size = ts, random_state = 3)\n",
    "    regr = linear_model.LinearRegression(fit_intercept=True, normalize=True)\n",
    "    if new_coef != []:\n",
    "        print \"new coefs\"\n",
    "        regr.coef_ = new_coef\n",
    "    regr.fit(train_X, train_y)\n",
    "    if info:\n",
    "        print \"Total: %d, train: %d, test: %d\" %(len(X), len(train_X), len(test_X))\n",
    "        print(\"Residual sum of squares: %.2f\"% np.mean((regr.predict(test_X) - test_y) ** 2))\n",
    "        print(\"Train absolute: %.2f\"% np.mean(abs(regr.predict(train_X) - train_y)))\n",
    "        print(\"Test absolute: %.2f\"% np.mean(abs(regr.predict(test_X) - test_y)))\n",
    "        print(\"Absolute to mean: %.2f%%\"% (np.mean(abs(regr.predict(test_X) - test_y))/np.mean(test_y)*100))\n",
    "        print('Train variance score: %.2f' % regr.score(train_X, train_y))\n",
    "        print('Test variance score: %.2f' % regr.score(test_X, test_y))\n",
    "    if short:\n",
    "        print np.mean(abs(regr.predict(test_X) - test_y)),regr.score(test_X, test_y)\n",
    "    if return_short:\n",
    "        return np.mean(abs(regr.predict(test_X) - test_y)),regr.score(test_X, test_y)\n",
    "    return regr"
   ]
  },
  {
   "cell_type": "code",
   "execution_count": null,
   "metadata": {
    "collapsed": false
   },
   "outputs": [],
   "source": [
    "X, y = get_X_y_from(cancer_data)"
   ]
  },
  {
   "cell_type": "code",
   "execution_count": 18,
   "metadata": {
    "collapsed": false
   },
   "outputs": [],
   "source": [
    "X_all, y_all = [], []\n",
    "\n",
    "with open('./max/estims.json') as data_file: \n",
    "    estims_data = json.load(data_file)[2]['clinics']\n",
    "with open('./max/меланома_все.json') as data_file: #2\n",
    "    cancer_data = json.load(data_file)[0]['clinics']\n",
    "X_1, y_1 = get_X_y_from(cancer_data)\n",
    "X_all+=X_1\n",
    "y_all+=y_1\n",
    "    \n",
    "with open('./max/estims.json') as data_file: \n",
    "    estims_data = json.load(data_file)[0]['clinics']\n",
    "with open('./max/рак_груди_все.json') as data_file: #0\n",
    "    cancer_data = json.load(data_file)[0]['clinics']\n",
    "X_2, y_2 = get_X_y_from(cancer_data)\n",
    "X_all+=X_2\n",
    "y_all+=y_2\n",
    "    \n",
    "with open('./max/estims.json') as data_file: \n",
    "    estims_data = json.load(data_file)[4]['clinics']    \n",
    "with open('./max/рак_простаты_все.json') as data_file: #4\n",
    "    cancer_data = json.load(data_file)[0]['clinics']\n",
    "clinic_ids = [i['id'] for i in estims_data]\n",
    "estims_data.pop(clinic_ids.index('0'))\n",
    "X_3, y_3 = get_X_y_from(cancer_data)\n",
    "X_all+=X_3\n",
    "y_all+=y_3\n",
    "\n",
    "with open('./max/estims.json') as data_file: \n",
    "    estims_data = json.load(data_file)[1]['clinics']     \n",
    "with open('./max/рак_шейки_матки_все.json') as data_file: #1\n",
    "    cancer_data = json.load(data_file)[0]['clinics']\n",
    "X_4, y_4 = get_X_y_from(cancer_data)\n",
    "X_all+=X_4\n",
    "y_all+=y_4\n",
    "    \n",
    "with open('./max/estims.json') as data_file: \n",
    "    estims_data = json.load(data_file)[3]['clinics']         \n",
    "with open('./max/рак_щитовидки_все.json') as data_file: #3\n",
    "    cancer_data = json.load(data_file)[0]['clinics']\n",
    "X_5, y_5 = get_X_y_from(cancer_data)\n",
    "X_all+=X_5\n",
    "y_all+=y_5\n",
    "\n",
    "normale(X_all)\n",
    "X_all=pack(X_all)\n",
    "normale(X_all)"
   ]
  },
  {
   "cell_type": "code",
   "execution_count": 17,
   "metadata": {
    "collapsed": false
   },
   "outputs": [
    {
     "data": {
      "text/plain": [
       "[[1, 1, 9, 1, 17, 20, 1, 0, 1, 0, 1, 1, 5, 65, 2, 37, 1, 1, 1, 0.5],\n",
       " [1, 1, 3, 0, 0, 0, 1, 0, 0, 0, 1, 1, 5, 65, 2, 37, 1, 1, 1, 0.5],\n",
       " [1, 1, 24, 0, 25, 40, 1, 1, 5, 0, 4, 1, 5, 65, 2, 37, 1, 1, 1, 0.5],\n",
       " [1, 1, 15, 0, 0, 0, 1, 0, 0, 0, 0, 1, 5, 65, 2, 37, 1, 1, 1, 0.5],\n",
       " [1, 0, 4, 0, 18, 20, 1, 1, 4, 0, 6, 1, 5, 65, 2, 37, 1, 1, 1, 0.5],\n",
       " [1, 0, 3, 0, 34, 20, 1, 0, 2, 0, 3, 1, 5, 65, 2, 37, 1, 1, 1, 0.5],\n",
       " [0, 0, 2, 0, 0, 0, 1, 1, 5, 0, 1, 1, 4, 47, 1, 20, 0, 0, 0, 0.4],\n",
       " [1, 0, 2, 0, 14, 0, 1, 1, 3, 0, 4, 1, 5, 48, 1, 17, 0, 1, 0, 0.3],\n",
       " [0, 0, 16, 0, 0, 25, 1, 0, 0, 0, 3, 1, 6, 63, 2, 36, 1, 1, 1, 0.7],\n",
       " [0, 0, 4, 0, 4, 30, 1, 1, 3, 0, 4, 1, 6, 63, 2, 36, 1, 1, 1, 0.7],\n",
       " [0, 0, 1, 0, 49, 0, 1, 1, 4, 0, 0, 1, 3, 16, 0, 4, 0, 0, 0, 0.6],\n",
       " [1, 0, 1, 0, 0, 0, 1, 2, 5, 0, 3, 1, 5, 52, 1, 30, 0, 1, 0, 0.3],\n",
       " [0, 0, 1, 0, 2, 10, 1, 1, 5, 0, 2, 1, 3, 28, 0, 14, 0, 0, 0, 0.1],\n",
       " [0, 0, 16, 0, 0, 25, 1, 0, 0, 0, 3, 1, 6, 63, 2, 36, 1, 1, 1, 0.6],\n",
       " [1, 0, 7, 0, 30, 30, 1, 0, 0, 0, 0, 1, 6, 63, 2, 36, 1, 1, 1, 0.6],\n",
       " [1, 0, 1, 0, 34, 30, 1, 0, 0, 0, 2, 1, 6, 63, 2, 36, 1, 1, 1, 0.6],\n",
       " [0, 0, 1, 0, 0, 22, 1, 0, 1, 0, 1, 1, 6, 63, 2, 36, 1, 1, 1, 0.6],\n",
       " [1, 0, 5, 0, 52, 30, 1, 1, 4, 0, 1, 1, 5, 48, 1, 17, 0, 1, 0, 0.3],\n",
       " [1, 0, 1, 0, 7, 0, 1, 1, 3, 0, 4, 1, 5, 48, 1, 17, 0, 1, 0, 0.3],\n",
       " [1, 0, 5, 0, 12, 0, 1, 2, 5, 0, 3, 1, 5, 48, 1, 17, 0, 1, 0, 0.3],\n",
       " [1, 1, 9, 1, 17, 20, 1, 0, 1, 0, 1, 1, 5, 65, 2, 37, 1, 1, 1, 0.4],\n",
       " [1, 1, 3, 0, 0, 0, 1, 0, 0, 0, 1, 1, 5, 65, 2, 37, 1, 1, 1, 0.4],\n",
       " [1, 1, 24, 0, 25, 40, 1, 1, 5, 0, 4, 1, 5, 65, 2, 37, 1, 1, 1, 0.4],\n",
       " [1, 0, 1, 0, 0, 0, 1, 0, 0, 0, 0, 1, 5, 65, 2, 37, 1, 1, 1, 0.4],\n",
       " [1, 1, 15, 0, 0, 0, 1, 0, 0, 0, 0, 1, 5, 65, 2, 37, 1, 1, 1, 0.4],\n",
       " [1, 0, 4, 0, 18, 20, 1, 1, 4, 0, 6, 1, 5, 65, 2, 37, 1, 1, 1, 0.4],\n",
       " [0, 0, 4, 0, 0, 0, 1, 0, 0, 0, 0, 1, 5, 65, 2, 37, 1, 1, 1, 0.4],\n",
       " [0, 0, 1, 0, 8, 0, 1, 2, 6, 0, 5, 1, 5, 46, 1, 22, 0, 1, 0, 0.2],\n",
       " [0, 0, 1, 0, 0, 12, 1, 2, 4, 0, 2, 1, 3, 28, 0, 14, 0, 0, 0, 0.1],\n",
       " [0, 0, 3, 0, 14, 7, 1, 2, 5, 0, 6, 1, 3, 28, 0, 14, 0, 0, 0, 0.1],\n",
       " [1, 0, 1, 0, 30, 30, 1, 3, 13, 0, 7, 1, 4, 19, 0, 7, 0, 0, 0, 0.2],\n",
       " [0, 0, 5, 0, 27, 25, 1, 2, 8, 0, 9, 1, 4, 47, 1, 20, 0, 0, 0, 0.5],\n",
       " [1, 1, 24, 0, 25, 40, 1, 1, 5, 0, 4, 1, 5, 65, 2, 37, 1, 1, 1, 0.6],\n",
       " [1, 0, 14, 0, 30, 30, 1, 0, 5, 0, 2, 1, 5, 65, 2, 37, 1, 1, 1, 0.6],\n",
       " [0, 0, 3, 0, 0, 25, 1, 0, 0, 0, 0, 1, 5, 65, 2, 37, 1, 1, 1, 0.6],\n",
       " [1, 0, 8, 0, 0, 30, 1, 3, 11, 0, 8, 1, 5, 65, 2, 37, 1, 1, 1, 0.6],\n",
       " [1, 0, 4, 0, 0, 0, 1, 0, 0, 0, 0, 1, 6, 63, 2, 36, 1, 1, 1, 0.7],\n",
       " [1, 0, 5, 0, 18, 17, 1, 0, 7, 0, 4, 1, 6, 63, 2, 36, 1, 1, 1, 0.7],\n",
       " [0, 0, 16, 0, 0, 25, 1, 0, 0, 0, 3, 1, 6, 63, 2, 36, 1, 1, 1, 0.7],\n",
       " [1, 0, 14, 0, 5, 0, 1, 4, 13, 0, 8, 1, 5, 48, 1, 17, 0, 1, 0, 0.3],\n",
       " [1, 0, 3, 0, 18, 0, 1, 3, 12, 0, 5, 1, 4, 24, 1, 11, 0, 1, 0, 0.4],\n",
       " [1, 0, 4, 0, 4, 23, 1, 3, 11, 0, 9, 1, 5, 52, 1, 30, 0, 1, 0, 0.3],\n",
       " [1, 1, 24, 0, 25, 40, 1, 1, 5, 0, 4, 1, 5, 65, 2, 37, 1, 1, 1, 0.5],\n",
       " [1, 1, 15, 0, 0, 0, 1, 0, 0, 0, 0, 1, 5, 65, 2, 37, 1, 1, 1, 0.5],\n",
       " [0, 0, 4, 0, 0, 0, 1, 0, 0, 0, 0, 1, 5, 65, 2, 37, 1, 1, 1, 0.5],\n",
       " [1, 0, 4, 0, 0, 28, 1, 1, 6, 1, 3, 1, 5, 65, 2, 37, 1, 1, 1, 0.5],\n",
       " [1, 0, 1, 0, 6, 20, 1, 2, 8, 1, 3, 1, 5, 36, 2, 20, 0, 0, 0, 0.2],\n",
       " [1, 0, 5, 0, 52, 30, 1, 1, 4, 0, 1, 1, 5, 48, 1, 17, 0, 1, 0, 0.2],\n",
       " [0, 0, 10, 0, 16, 10, 1, 3, 8, 1, 5, 1, 5, 48, 1, 17, 0, 1, 0, 0.2],\n",
       " [0, 0, 1, 0, 0, 30, 1, 3, 9, 1, 3, 1, 4, 47, 1, 20, 0, 0, 0, 0.6],\n",
       " [0, 0, 1, 0, 0, 0, 1, 3, 9, 1, 4, 1, 4, 24, 1, 11, 0, 1, 0, 0.4],\n",
       " [0, 0, 1, 0, 9, 17, 1, 3, 9, 1, 4, 1, 5, 46, 1, 22, 0, 1, 0, 0.1],\n",
       " [0, 0, 1, 0, 0, 32, 1, 3, 10, 1, 4, 1, 3, 28, 0, 14, 0, 0, 0, 0.0],\n",
       " [1, 0, 3, 0, 16, 22, 1, 3, 9, 1, 4, 1, 5, 20, 1, 8, 0, 0, 0, 0.6],\n",
       " [0, 0, 16, 0, 0, 25, 1, 0, 0, 0, 3, 1, 6, 63, 2, 36, 1, 1, 1, 0.6],\n",
       " [1, 0, 2, 0, 10, 40, 1, 3, 8, 1, 6, 1, 5, 52, 1, 30, 0, 1, 0, 0.3],\n",
       " [1, 1, 9, 0, 35, 30, 1, 0, 0, 0, 2, 1, 5, 65, 2, 37, 1, 1, 1, 0.5],\n",
       " [1, 1, 24, 0, 25, 40, 1, 1, 5, 0, 4, 1, 5, 65, 2, 37, 1, 1, 1, 0.5],\n",
       " [0, 0, 10, 0, 0, 12, 1, 0, 0, 0, 0, 1, 5, 65, 2, 37, 1, 1, 1, 0.5],\n",
       " [0, 0, 1, 0, 2, 30, 1, 1, 2, 0, 2, 1, 4, 47, 1, 20, 0, 0, 0, 0.6],\n",
       " [1, 0, 5, 0, 12, 0, 1, 2, 5, 0, 3, 1, 5, 48, 1, 17, 0, 1, 0, 0.3],\n",
       " [0, 0, 2, 0, 33, 0, 1, 0, 0, 0, 2, 1, 6, 63, 2, 36, 1, 1, 1, 0.6],\n",
       " [0, 0, 1, 0, 0, 0, 1, 1, 2, 0, 3, 1, 5, 52, 1, 30, 0, 1, 0, 0.3],\n",
       " [0, 0, 3, 0, 14, 7, 1, 2, 5, 0, 6, 1, 3, 28, 0, 14, 0, 0, 0, 0.1]]"
      ]
     },
     "execution_count": 17,
     "metadata": {},
     "output_type": "execute_result"
    }
   ],
   "source": [
    "X_all"
   ]
  },
  {
   "cell_type": "code",
   "execution_count": null,
   "metadata": {
    "collapsed": false
   },
   "outputs": [],
   "source": [
    "len(X_all[1])"
   ]
  },
  {
   "cell_type": "code",
   "execution_count": null,
   "metadata": {
    "collapsed": false
   },
   "outputs": [],
   "source": [
    "len(cancer_data[3]['doctors'])"
   ]
  },
  {
   "cell_type": "code",
   "execution_count": null,
   "metadata": {
    "collapsed": false
   },
   "outputs": [],
   "source": [
    "X_all"
   ]
  },
  {
   "cell_type": "code",
   "execution_count": 134,
   "metadata": {
    "collapsed": false
   },
   "outputs": [
    {
     "name": "stdout",
     "output_type": "stream",
     "text": [
      "1\n",
      "Total: 64, train: 57, test: 7\n",
      "Residual sum of squares: 10.81\n",
      "Train absolute: 2.16\n",
      "Test absolute: 3.07\n",
      "Absolute to mean: 47.77%\n",
      "Train variance score: 0.29\n",
      "Test variance score: -0.66\n",
      "\n",
      "2\n",
      "Total: 64, train: 51, test: 13\n",
      "Residual sum of squares: 8.15\n",
      "Train absolute: 2.20\n",
      "Test absolute: 2.57\n",
      "Absolute to mean: 42.77%\n",
      "Train variance score: 0.24\n",
      "Test variance score: 0.07\n",
      "\n",
      "3\n",
      "Total: 64, train: 44, test: 20\n",
      "Residual sum of squares: 7.76\n",
      "Train absolute: 2.25\n",
      "Test absolute: 2.47\n",
      "Absolute to mean: 39.87%\n",
      "Train variance score: 0.26\n",
      "Test variance score: -0.04\n",
      "\n",
      "4\n",
      "Total: 64, train: 38, test: 26\n",
      "Residual sum of squares: 6.82\n",
      "Train absolute: 2.34\n",
      "Test absolute: 2.41\n",
      "Absolute to mean: 37.93%\n",
      "Train variance score: 0.27\n",
      "Test variance score: -0.02\n",
      "\n",
      "5\n",
      "Total: 64, train: 32, test: 32\n",
      "Residual sum of squares: 7.45\n",
      "Train absolute: 2.34\n",
      "Test absolute: 2.29\n",
      "Absolute to mean: 37.35%\n",
      "Train variance score: 0.32\n",
      "Test variance score: -0.09\n",
      "\n",
      "6\n",
      "Total: 64, train: 25, test: 39\n",
      "Residual sum of squares: 7.01\n",
      "Train absolute: 2.37\n",
      "Test absolute: 2.21\n",
      "Absolute to mean: 34.41%\n",
      "Train variance score: 0.27\n",
      "Test variance score: 0.07\n",
      "\n",
      "7\n",
      "Total: 64, train: 19, test: 45\n",
      "Residual sum of squares: 8.72\n",
      "Train absolute: 2.47\n",
      "Test absolute: 2.59\n",
      "Absolute to mean: 41.32%\n",
      "Train variance score: 0.24\n",
      "Test variance score: -0.16\n",
      "\n",
      "8\n",
      "Total: 64, train: 12, test: 52\n",
      "Residual sum of squares: 36.35\n",
      "Train absolute: 1.26\n",
      "Test absolute: 3.69\n",
      "Absolute to mean: 59.72%\n",
      "Train variance score: 0.70\n",
      "Test variance score: -3.73\n",
      "\n",
      "9\n",
      "Total: 64, train: 6, test: 58\n",
      "Residual sum of squares: 1505.52\n",
      "Train absolute: 0.83\n",
      "Test absolute: 28.41\n",
      "Absolute to mean: 460.22%\n",
      "Train variance score: 0.55\n",
      "Test variance score: -187.89\n",
      "\n"
     ]
    }
   ],
   "source": [
    "for i in range(1,10):\n",
    "    print i\n",
    "    regr = process_with(X_all, y_all, info=True, ts=i/10.0)\n",
    "    print"
   ]
  },
  {
   "cell_type": "code",
   "execution_count": 135,
   "metadata": {
    "collapsed": false
   },
   "outputs": [
    {
     "name": "stdout",
     "output_type": "stream",
     "text": [
      "Total: 64, train: 25, test: 39\n",
      "Residual sum of squares: 7.01\n",
      "Train absolute: 2.37\n",
      "Test absolute: 2.21\n",
      "Absolute to mean: 34.41%\n",
      "Train variance score: 0.27\n",
      "Test variance score: 0.07\n"
     ]
    }
   ],
   "source": [
    "regr = process_with(X_all, y_all, info=True, ts=0.6)"
   ]
  },
  {
   "cell_type": "code",
   "execution_count": 136,
   "metadata": {
    "collapsed": false
   },
   "outputs": [
    {
     "name": "stdout",
     "output_type": "stream",
     "text": [
      "Real: 10.000000 \t Predicted: 7.704660\n",
      "5.9451\n",
      "\n",
      "Real: 10.000000 \t Predicted: 7.070325\n",
      "5.9051\n",
      "\n",
      "Real: 10.000000 \t Predicted: 7.309293\n",
      "5.8955\n",
      "\n",
      "Real: 10.000000 \t Predicted: 7.252825\n",
      "5.914\n",
      "\n",
      "Real: 10.000000 \t Predicted: 6.470389\n",
      "5.8485\n",
      "\n",
      "Real: 10.000000 \t Predicted: 6.960433\n",
      "5.8991\n",
      "\n",
      "Real: 9.000000 \t Predicted: 5.657148\n",
      "2.0468\n",
      "\n",
      "Real: 8.000000 \t Predicted: 5.510347\n",
      "2.9621\n",
      "\n",
      "Real: 6.000000 \t Predicted: 7.315954\n",
      "5.8934\n",
      "\n",
      "Real: 6.000000 \t Predicted: 6.198178\n",
      "5.7911\n",
      "\n",
      "Real: 4.000000 \t Predicted: 2.704850\n",
      "1.4952\n",
      "\n",
      "Real: 3.000000 \t Predicted: 5.895186\n",
      "3.1365\n",
      "\n",
      "Real: 1.000000 \t Predicted: 3.733958\n",
      "1.6379\n",
      "\n",
      "Real: 9.000000 \t Predicted: 7.315954\n",
      "5.8934\n",
      "\n",
      "Real: 9.000000 \t Predicted: 6.816188\n",
      "5.8496\n",
      "\n",
      "Real: 9.000000 \t Predicted: 6.876036\n",
      "5.8604\n",
      "\n",
      "Real: 9.000000 \t Predicted: 6.586185\n",
      "5.8348\n",
      "\n",
      "Real: 7.000000 \t Predicted: 5.509737\n",
      "2.9492\n",
      "\n",
      "Real: 7.000000 \t Predicted: 5.514804\n",
      "2.9624\n",
      "\n",
      "Real: 7.000000 \t Predicted: 4.564887\n",
      "2.8673\n",
      "\n",
      "Real: 5.000000 \t Predicted: 7.704660\n",
      "5.9451\n",
      "\n",
      "Real: 5.000000 \t Predicted: 7.070325\n",
      "5.9051\n",
      "\n",
      "Real: 5.000000 \t Predicted: 7.309293\n",
      "5.8955\n",
      "\n",
      "Real: 5.000000 \t Predicted: 6.556133\n",
      "5.8671\n",
      "\n",
      "Real: 5.000000 \t Predicted: 7.252825\n",
      "5.914\n",
      "\n",
      "Real: 5.000000 \t Predicted: 6.470389\n",
      "5.8485\n",
      "\n",
      "Real: 5.000000 \t Predicted: 6.535336\n",
      "5.8657\n",
      "\n",
      "Real: 4.000000 \t Predicted: 5.262800\n",
      "3.0148\n",
      "\n",
      "Real: 2.000000 \t Predicted: 3.127303\n",
      "1.5774\n",
      "\n",
      "Real: 2.000000 \t Predicted: 3.392610\n",
      "1.6061\n",
      "\n",
      "Real: 9.000000 \t Predicted: 1.822767\n",
      "1.3817\n",
      "\n",
      "Real: 8.000000 \t Predicted: 5.931287\n",
      "2.0619\n",
      "\n",
      "Real: 6.000000 \t Predicted: 7.309293\n",
      "5.8955\n",
      "\n",
      "Real: 6.000000 \t Predicted: 7.036078\n",
      "5.8927\n",
      "\n",
      "Real: 6.000000 \t Predicted: 6.931960\n",
      "5.8924\n",
      "\n",
      "Real: 6.000000 \t Predicted: 4.936481\n",
      "5.6884\n",
      "\n",
      "Real: 5.000000 \t Predicted: 6.360144\n",
      "5.8189\n",
      "\n",
      "Real: 5.000000 \t Predicted: 6.422702\n",
      "5.8178\n",
      "\n",
      "Real: 5.000000 \t Predicted: 7.315954\n",
      "5.8934\n",
      "\n",
      "Real: 4.000000 \t Predicted: 3.187170\n",
      "2.7252\n",
      "\n",
      "Real: 2.000000 \t Predicted: 4.294860\n",
      "2.9371\n",
      "\n",
      "Real: 1.000000 \t Predicted: 5.738206\n",
      "3.1077\n",
      "\n",
      "Real: 10.000000 \t Predicted: 7.309293\n",
      "5.8955\n",
      "\n",
      "Real: 10.000000 \t Predicted: 7.252825\n",
      "5.914\n",
      "\n",
      "Real: 10.000000 \t Predicted: 6.535336\n",
      "5.8657\n",
      "\n",
      "Real: 10.000000 \t Predicted: 7.030644\n",
      "5.8969\n",
      "\n",
      "Real: 9.000000 \t Predicted: 9.328968\n",
      "2.7138\n",
      "\n",
      "Real: 8.000000 \t Predicted: 5.509737\n",
      "2.9492\n",
      "\n",
      "Real: 8.000000 \t Predicted: 4.829630\n",
      "2.8877\n",
      "\n",
      "Real: 7.000000 \t Predicted: 5.397004\n",
      "2.0068\n",
      "\n",
      "Real: 6.000000 \t Predicted: 5.245035\n",
      "3.032\n",
      "\n",
      "Real: 5.000000 \t Predicted: 5.295165\n",
      "3.0094\n",
      "\n",
      "Real: 4.000000 \t Predicted: 3.282220\n",
      "1.5823\n",
      "\n",
      "Real: 3.000000 \t Predicted: 5.296786\n",
      "1.9832\n",
      "\n",
      "Real: 2.000000 \t Predicted: 7.315954\n",
      "5.8934\n",
      "\n",
      "Real: 1.000000 \t Predicted: 6.748857\n",
      "3.1999\n",
      "\n",
      "Real: 10.000000 \t Predicted: 7.689987\n",
      "5.9502\n",
      "\n",
      "Real: 10.000000 \t Predicted: 7.309293\n",
      "5.8955\n",
      "\n",
      "Real: 10.000000 \t Predicted: 6.884425\n",
      "5.8892\n",
      "\n",
      "Real: 9.000000 \t Predicted: 6.509931\n",
      "2.1157\n",
      "\n",
      "Real: 8.000000 \t Predicted: 4.564887\n",
      "2.8673\n",
      "\n",
      "Real: 6.000000 \t Predicted: 6.304124\n",
      "5.8219\n",
      "\n",
      "Real: 2.000000 \t Predicted: 6.804747\n",
      "3.2282\n",
      "\n",
      "Real: 1.000000 \t Predicted: 3.392610\n",
      "1.6061\n",
      "\n"
     ]
    }
   ],
   "source": [
    "import warnings\n",
    "warnings.filterwarnings(\"ignore\")\n",
    "for i in range(0,len(y_all)):    \n",
    "    print \"Real: %f \\t Predicted: %f\" %(y_all[i], regr.predict(X_all[i]))\n",
    "    print sum(X_all[i])\n",
    "    print\n",
    "    #print y_all[i]\n",
    "    #print regr.predict(X_all[i])[0]"
   ]
  },
  {
   "cell_type": "code",
   "execution_count": 117,
   "metadata": {
    "collapsed": false
   },
   "outputs": [
    {
     "name": "stdout",
     "output_type": "stream",
     "text": [
      "Features sorted by their score:\n",
      "-9.60471591456\n",
      "5\n",
      "10.809400 \t gd\n",
      "2.475900 \t ed\n",
      "1.121000 \t gp\n",
      "0.476800 \t large\n",
      "5.097000 \t price\n"
     ]
    }
   ],
   "source": [
    "print \"Features sorted by their score:\"\n",
    "#f = sorted(zip(map(lambda x: round(x, 4), regr.coef_), FEATURES), reverse=True)\n",
    "f = zip(map(lambda x: round(x, 4), regr.coef_), FEATURES)\n",
    "print regr.intercept_\n",
    "print len(FEATURES)\n",
    "for i in f:\n",
    "    print \"%4f \\t %s\" %(i[0], i[1])\n",
    "    #print i[0] #, i[1]"
   ]
  },
  {
   "cell_type": "code",
   "execution_count": null,
   "metadata": {
    "collapsed": false
   },
   "outputs": [],
   "source": [
    "ind = [map(lambda x: x[1], f).index(i) for i in FEATURES]\n",
    "for i in ind:\n",
    "    print i+1"
   ]
  },
  {
   "cell_type": "code",
   "execution_count": 61,
   "metadata": {
    "collapsed": false
   },
   "outputs": [],
   "source": [
    "plt.plot(sorted([i[2] for i in X_all]))\n",
    "plt.show()"
   ]
  },
  {
   "cell_type": "code",
   "execution_count": null,
   "metadata": {
    "collapsed": false
   },
   "outputs": [],
   "source": [
    "print FEATURES[8]\n",
    "[i[22] for i in X]"
   ]
  },
  {
   "cell_type": "code",
   "execution_count": null,
   "metadata": {
    "collapsed": false
   },
   "outputs": [],
   "source": [
    "for k in range(0,26):\n",
    "    print FEATURES[k], 10 - [i[k] for i in X].count(0)"
   ]
  }
 ],
 "metadata": {
  "kernelspec": {
   "display_name": "Python 2",
   "language": "python",
   "name": "python2"
  },
  "language_info": {
   "codemirror_mode": {
    "name": "ipython",
    "version": 2
   },
   "file_extension": ".py",
   "mimetype": "text/x-python",
   "name": "python",
   "nbconvert_exporter": "python",
   "pygments_lexer": "ipython2",
   "version": "2.7.6"
  }
 },
 "nbformat": 4,
 "nbformat_minor": 0
}
