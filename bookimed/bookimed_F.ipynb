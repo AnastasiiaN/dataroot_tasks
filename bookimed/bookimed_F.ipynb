{
 "cells": [
  {
   "cell_type": "code",
   "execution_count": 1,
   "metadata": {
    "collapsed": false
   },
   "outputs": [],
   "source": [
    "import json\n",
    "import matplotlib.pyplot as plt\n",
    "import numpy as np\n",
    "from sklearn import datasets, linear_model\n",
    "from sklearn import preprocessing\n",
    "from sklearn import cross_validation"
   ]
  },
  {
   "cell_type": "code",
   "execution_count": 2,
   "metadata": {
    "collapsed": true
   },
   "outputs": [],
   "source": [
    "FEATURES = [\n",
    "    \"gd\",\n",
    "    \"ed\",\n",
    "    \"gp\",\n",
    "    \"isr\",\n",
    "#    \"views\", \n",
    "    \"large\", \n",
    "    \"top\", \n",
    "#    \"speed_level\",\n",
    "    \"speed_level 1\",\n",
    "    \"speed_level 2\",\n",
    "    \"speed_level 3\",\n",
    "    \"price\"]"
   ]
  },
  {
   "cell_type": "code",
   "execution_count": 3,
   "metadata": {
    "collapsed": true
   },
   "outputs": [],
   "source": [
    "def get_speed_level(speed_level):\n",
    "    if speed_level == 1:\n",
    "        return  [1]\n",
    "        #return [1,0,0]\n",
    "        #print X[-1], speed_level\n",
    "    elif speed_level == 2:\n",
    "        return [0.4]\n",
    "        #return [0,1,0]\n",
    "        #print X[-1], speed_level\n",
    "    elif speed_level == 3:\n",
    "        return [0.1]\n",
    "        #return [0,0,1]\n",
    "        #print X[-1], speed_level\n",
    "    else:\n",
    "        return [0]\n",
    "        #return [0,0,0]\n",
    "        #print X[-1], speed_level"
   ]
  },
  {
   "cell_type": "code",
   "execution_count": 141,
   "metadata": {
    "collapsed": false
   },
   "outputs": [],
   "source": [
    "def extract_data(clinic, clinic_estim):\n",
    "    all_proc = clinic['procedures']['diagnostics'] + clinic['procedures']['operations']\n",
    "    all_doc = clinic['doctors']\n",
    "    X = []\n",
    "    for doc in all_doc:\n",
    "        X+=[[]]\n",
    "        \n",
    "        #gd\n",
    "        gd = [0.060, 0.223, 0.015, 0.039, -0.003, 0.011, 8.370] #unnormed\n",
    "        gd = [0.06, 0.223, 0.372, 0.196, -0.135, 0.426, 8.37]\n",
    "        #gd = [1, 1, 1, 1, 1, 1, 0]\n",
    "        x = [\n",
    "            doc['degree'].count(u'Профессор'),\n",
    "            int(doc['top']),\n",
    "            len(doc['illnesses']),\n",
    "            len(doc['languages']),\n",
    "            int(doc['h_index']),\n",
    "            int(doc['experience']),\n",
    "            1\n",
    "        ]\n",
    "        X[-1]+= [round(sum(np.array(gd)*np.array(x)),5)] \n",
    "        #ed\n",
    "        ed = [-0.552, -0.032, 0.533, 0.098, 8.945] #unnormed\n",
    "        ed = [-2.82, -1.104, 0.827, 0.96, 9.471]\n",
    "        #ed = [1, 1, 1, 1, 0]\n",
    "        ids_diad = [i['id'] for i in doc['procedures']['diagnostics'] if i['top']=='1']\n",
    "        ids_oper = [i['id'] for i in doc['procedures']['operations'] if i['top']=='1']\n",
    "        x = [\n",
    "            len(list(set(ids_diad))),\n",
    "            len(doc['procedures']['diagnostics']),\n",
    "            len(list(set(ids_oper))),\n",
    "            len(doc['procedures']['operations']),\n",
    "            1\n",
    "        ]\n",
    "        X[-1]+= [round(sum(np.array(ed)*np.array(x)),5)]\n",
    "        #gp\n",
    "        gp = [-1.547, -0.204, 1.837, 0.139] #unnormed\n",
    "        gp = [-3.094, -7.545, 11.025, 9.011]\n",
    "        #gp = [1, 1, 1, 1]\n",
    "        x = [\n",
    "            sum([int(i['top']) for i in all_proc]), #top_proc_cli\n",
    "            len(all_proc), #gen_proc_cli\n",
    "            sum([int(i['top']) for i in clinic['procedures']['operations']]), #top_oper_cli\n",
    "            len(clinic['procedures']['operations']), #gen_oper_cli\n",
    "        ]\n",
    "        X[-1]+= [round(sum(np.array(gp)*np.array(x)),5)]\n",
    "        print X[-1]\n",
    "        print x\n",
    "        print\n",
    "        #\n",
    "        c_id = int(clinic['country_id'])\n",
    "        if c_id == 1:\n",
    "            X[-1]+=[1]\n",
    "        else:\n",
    "            X[-1]+=[0]\n",
    "        #X[-1]+=[int(clinic['views'])]\n",
    "        X[-1]+=[int(clinic['large'])]\n",
    "        X[-1]+=[int(clinic['top'])]\n",
    "        #X[-1]+=[get_speed_level(int(clinic['speed_level']))]\n",
    "        X[-1]+=[round(1-int(clinic_estim['price'])/10.0,4)]\n",
    "        \n",
    "    y=[int(clinic_estim['rating'])] * len(all_doc)\n",
    "    return [X, y]"
   ]
  },
  {
   "cell_type": "code",
   "execution_count": 1,
   "metadata": {
    "collapsed": true
   },
   "outputs": [],
   "source": [
    "def get_X_y_from(t_data):\n",
    "    clinic_ids = [i['id'] for i in t_data]\n",
    "    t_cleaned_data = [extract_data(cancer_data[clinic_ids.index(i['id'])], i) for i in estims_data]\n",
    "    X = sum([i[0] for i in t_cleaned_data],[])\n",
    "    y = sum([i[1] for i in t_cleaned_data],[])\n",
    "    return X,y"
   ]
  },
  {
   "cell_type": "code",
   "execution_count": 130,
   "metadata": {
    "collapsed": true
   },
   "outputs": [],
   "source": [
    "def normale(mat):\n",
    "    for i in [0,2]:\n",
    "        mass = [abs(k[i]) for k in mat]\n",
    "        m = max(mass)\n",
    "        if m>0:\n",
    "            for j in mat:\n",
    "                j[i] = round(j[i] / float(m), 4)"
   ]
  },
  {
   "cell_type": "code",
   "execution_count": 8,
   "metadata": {
    "collapsed": true
   },
   "outputs": [],
   "source": [
    "def process_with(X,y, info=False, short=False, return_short = False, new_coef = [], ts=0.2):\n",
    "    train_X, test_X, train_y, test_y = cross_validation.train_test_split(X, y, test_size = ts, random_state = 3)\n",
    "    regr = linear_model.LinearRegression(fit_intercept=True, normalize=True)\n",
    "    if new_coef != []:\n",
    "        print \"new coefs\"\n",
    "        regr.coef_ = new_coef\n",
    "    regr.fit(train_X, train_y)\n",
    "    if info:\n",
    "        print \"Total: %d, train: %d, test: %d\" %(len(X), len(train_X), len(test_X))\n",
    "        print(\"Residual sum of squares: %.2f\"% np.mean((regr.predict(test_X) - test_y) ** 2))\n",
    "        print(\"Train absolute: %.2f\"% np.mean(abs(regr.predict(train_X) - train_y)))\n",
    "        print(\"Test absolute: %.2f\"% np.mean(abs(regr.predict(test_X) - test_y)))\n",
    "        print(\"Absolute to mean: %.2f%%\"% (np.mean(abs(regr.predict(test_X) - test_y))/np.mean(test_y)*100))\n",
    "        print('Train variance score: %.2f' % regr.score(train_X, train_y))\n",
    "        print('Test variance score: %.2f' % regr.score(test_X, test_y))\n",
    "    if short:\n",
    "        print np.mean(abs(regr.predict(test_X) - test_y)),regr.score(test_X, test_y)\n",
    "    if return_short:\n",
    "        return np.mean(abs(regr.predict(test_X) - test_y)),regr.score(test_X, test_y)\n",
    "    return regr"
   ]
  },
  {
   "cell_type": "code",
   "execution_count": null,
   "metadata": {
    "collapsed": false
   },
   "outputs": [],
   "source": [
    "X, y = get_X_y_from(cancer_data)"
   ]
  },
  {
   "cell_type": "code",
   "execution_count": 2,
   "metadata": {
    "collapsed": false
   },
   "outputs": [
    {
     "ename": "NameError",
     "evalue": "name 'json' is not defined",
     "output_type": "error",
     "traceback": [
      "\u001b[1;31m---------------------------------------------------------------------------\u001b[0m",
      "\u001b[1;31mNameError\u001b[0m                                 Traceback (most recent call last)",
      "\u001b[1;32m<ipython-input-2-37475968443a>\u001b[0m in \u001b[0;36m<module>\u001b[1;34m()\u001b[0m\n\u001b[0;32m      2\u001b[0m \u001b[1;33m\u001b[0m\u001b[0m\n\u001b[0;32m      3\u001b[0m \u001b[1;32mwith\u001b[0m \u001b[0mopen\u001b[0m\u001b[1;33m(\u001b[0m\u001b[1;34m'./max/estims.json'\u001b[0m\u001b[1;33m)\u001b[0m \u001b[1;32mas\u001b[0m \u001b[0mdata_file\u001b[0m\u001b[1;33m:\u001b[0m\u001b[1;33m\u001b[0m\u001b[0m\n\u001b[1;32m----> 4\u001b[1;33m     \u001b[0mestims_data\u001b[0m \u001b[1;33m=\u001b[0m \u001b[0mjson\u001b[0m\u001b[1;33m.\u001b[0m\u001b[0mload\u001b[0m\u001b[1;33m(\u001b[0m\u001b[0mdata_file\u001b[0m\u001b[1;33m)\u001b[0m\u001b[1;33m[\u001b[0m\u001b[1;36m2\u001b[0m\u001b[1;33m]\u001b[0m\u001b[1;33m[\u001b[0m\u001b[1;34m'clinics'\u001b[0m\u001b[1;33m]\u001b[0m\u001b[1;33m\u001b[0m\u001b[0m\n\u001b[0m\u001b[0;32m      5\u001b[0m \u001b[1;32mwith\u001b[0m \u001b[0mopen\u001b[0m\u001b[1;33m(\u001b[0m\u001b[1;34m'./max/меланома_все.json'\u001b[0m\u001b[1;33m)\u001b[0m \u001b[1;32mas\u001b[0m \u001b[0mdata_file\u001b[0m\u001b[1;33m:\u001b[0m \u001b[1;31m#2\u001b[0m\u001b[1;33m\u001b[0m\u001b[0m\n\u001b[0;32m      6\u001b[0m     \u001b[0mcancer_data\u001b[0m \u001b[1;33m=\u001b[0m \u001b[0mjson\u001b[0m\u001b[1;33m.\u001b[0m\u001b[0mload\u001b[0m\u001b[1;33m(\u001b[0m\u001b[0mdata_file\u001b[0m\u001b[1;33m)\u001b[0m\u001b[1;33m[\u001b[0m\u001b[1;36m0\u001b[0m\u001b[1;33m]\u001b[0m\u001b[1;33m[\u001b[0m\u001b[1;34m'clinics'\u001b[0m\u001b[1;33m]\u001b[0m\u001b[1;33m\u001b[0m\u001b[0m\n",
      "\u001b[1;31mNameError\u001b[0m: name 'json' is not defined"
     ]
    }
   ],
   "source": [
    "X_all, y_all = [], []\n",
    "\n",
    "with open('./max/estims.json') as data_file: \n",
    "    estims_data = json.load(data_file)[2]['clinics']\n",
    "with open('./max/меланома_все.json') as data_file: #2\n",
    "    cancer_data = json.load(data_file)[0]['clinics']\n",
    "X_1, y_1 = get_X_y_from(cancer_data)\n",
    "X_all+=X_1\n",
    "y_all+=y_1\n",
    "    \n",
    "with open('./max/estims.json') as data_file: \n",
    "    estims_data = json.load(data_file)[0]['clinics']\n",
    "with open('./max/рак_груди_все.json') as data_file: #0\n",
    "    cancer_data = json.load(data_file)[0]['clinics']\n",
    "X_2, y_2 = get_X_y_from(cancer_data)\n",
    "X_all+=X_2\n",
    "y_all+=y_2\n",
    "    \n",
    "with open('./max/estims.json') as data_file: \n",
    "    estims_data = json.load(data_file)[4]['clinics']    \n",
    "with open('./max/рак_простаты_все.json') as data_file: #4\n",
    "    cancer_data = json.load(data_file)[0]['clinics']\n",
    "clinic_ids = [i['id'] for i in estims_data]\n",
    "estims_data.pop(clinic_ids.index('0'))\n",
    "X_3, y_3 = get_X_y_from(cancer_data)\n",
    "X_all+=X_3\n",
    "y_all+=y_3\n",
    "\n",
    "with open('./max/estims.json') as data_file: \n",
    "    estims_data = json.load(data_file)[1]['clinics']     \n",
    "with open('./max/рак_шейки_матки_все.json') as data_file: #1\n",
    "    cancer_data = json.load(data_file)[0]['clinics']\n",
    "X_4, y_4 = get_X_y_from(cancer_data)\n",
    "X_all+=X_4\n",
    "y_all+=y_4\n",
    "    \n",
    "with open('./max/estims.json') as data_file: \n",
    "    estims_data = json.load(data_file)[3]['clinics']         \n",
    "with open('./max/рак_щитовидки_все.json') as data_file: #3\n",
    "    cancer_data = json.load(data_file)[0]['clinics']\n",
    "X_5, y_5 = get_X_y_from(cancer_data)\n",
    "X_all+=X_5\n",
    "y_all+=y_5\n",
    "\n",
    "#normale(X_all)"
   ]
  },
  {
   "cell_type": "code",
   "execution_count": 67,
   "metadata": {
    "collapsed": false
   },
   "outputs": [
    {
     "data": {
      "text/plain": [
       "{u'experience': u'8',\n",
       " u'id': u'78',\n",
       " u'name': u'\\u0422\\u0435\\u043a\\u043d\\u043e\\u043d',\n",
       " u'price': u'4',\n",
       " u'rating': u'7',\n",
       " u'specialist': u'8',\n",
       " u'variety': u'10'}"
      ]
     },
     "execution_count": 67,
     "metadata": {},
     "output_type": "execute_result"
    }
   ],
   "source": [
    "estims_data[3]"
   ]
  },
  {
   "cell_type": "code",
   "execution_count": 66,
   "metadata": {
    "collapsed": false
   },
   "outputs": [
    {
     "data": {
      "text/plain": [
       "1"
      ]
     },
     "execution_count": 66,
     "metadata": {},
     "output_type": "execute_result"
    }
   ],
   "source": [
    "len(cancer_data[3]['doctors'])"
   ]
  },
  {
   "cell_type": "code",
   "execution_count": 140,
   "metadata": {
    "collapsed": false
   },
   "outputs": [
    {
     "data": {
      "text/plain": [
       "[[18.422, 9.327, -150.438, 1, 1, 1, 0.5],\n",
       " [9.769, 10.431, -150.438, 1, 1, 1, 0.5],\n",
       " [31.246, 4.971, -150.438, 1, 1, 1, 0.5],\n",
       " [14.233, 9.471, -150.438, 1, 1, 1, 0.5],\n",
       " [16.008, 7.995, -150.438, 1, 1, 1, 0.5],\n",
       " [13.476, 10.143, -150.438, 1, 1, 1, 0.5],\n",
       " [9.114, 2.091, -175.746, 0, 0, 0, 0.4],\n",
       " [7.284, 7.179, -213.418, 0, 1, 0, 0.3],\n",
       " [24.972, 12.351, -147.453, 1, 1, 1, 0.7],\n",
       " [22.098, 7.179, -147.453, 1, 1, 1, 0.7],\n",
       " [2.127, 2.235, -93.958, 0, 0, 0, 0.6],\n",
       " [8.802, 1.191, -126.455, 0, 1, 0, 0.3],\n",
       " [12.732, 3.051, -94.388, 0, 0, 0, 0.1],\n",
       " [24.972, 12.351, -147.453, 1, 1, 1, 0.6],\n",
       " [19.764, 9.471, -147.453, 1, 1, 1, 0.6],\n",
       " [16.992, 11.391, -147.453, 1, 1, 1, 0.6],\n",
       " [18.114, 9.327, -147.453, 1, 1, 1, 0.6],\n",
       " [16.05, 3.195, -213.418, 0, 1, 0, 0.3],\n",
       " [7.857, 7.179, -213.418, 0, 1, 0, 0.3],\n",
       " [8.67, 1.191, -213.418, 0, 1, 0, 0.3],\n",
       " [18.422, 9.327, -150.438, 1, 1, 1, 0.4],\n",
       " [9.769, 10.431, -150.438, 1, 1, 1, 0.4],\n",
       " [31.246, 4.971, -150.438, 1, 1, 1, 0.4],\n",
       " [8.802, 9.471, -150.438, 1, 1, 1, 0.4],\n",
       " [14.233, 9.471, -150.438, 1, 1, 1, 0.4],\n",
       " [16.008, 7.995, -150.438, 1, 1, 1, 0.4],\n",
       " [9.858, 9.471, -150.438, 1, 1, 1, 0.4],\n",
       " [7.662, 2.007, -153.273, 0, 1, 0, 0.2],\n",
       " [13.854, 1.335, -94.388, 0, 0, 0, 0.1],\n",
       " [10.578, 4.071, -94.388, 0, 0, 0, 0.1],\n",
       " [17.532, -6.621, -92.654, 0, 0, 0, 0.2],\n",
       " [17.235, 3.639, -175.746, 0, 0, 0, 0.5],\n",
       " [31.246, 4.971, -150.438, 1, 1, 1, 0.6],\n",
       " [22.368, 5.871, -150.438, 1, 1, 1, 0.6],\n",
       " [20.136, 9.471, -150.438, 1, 1, 1, 0.6],\n",
       " [24.186, -3.453, -150.438, 1, 1, 1, 0.6],\n",
       " [9.918, 9.471, -147.453, 1, 1, 1, 0.7],\n",
       " [15.102, 5.583, -147.453, 1, 1, 1, 0.7],\n",
       " [24.972, 12.351, -147.453, 1, 1, 1, 0.7],\n",
       " [12.963, -8.481, -213.418, 0, 1, 0, 0.3],\n",
       " [7.116, -7.437, -83.31, 0, 1, 0, 0.4],\n",
       " [19.176, -2.493, -126.455, 0, 1, 0, 0.3],\n",
       " [31.246, 4.971, -150.438, 1, 1, 1, 0.5],\n",
       " [14.233, 9.471, -150.438, 1, 1, 1, 0.5],\n",
       " [9.858, 9.471, -150.438, 1, 1, 1, 0.5],\n",
       " [21.846, 3.734, -150.438, 1, 1, 1, 0.5],\n",
       " [16.512, -1.294, -84.82, 0, 0, 0, 0.2],\n",
       " [16.05, 3.195, -213.418, 0, 1, 0, 0.2],\n",
       " [14.19, -2.194, -213.418, 0, 1, 0, 0.2],\n",
       " [21.522, -5.218, -175.746, 0, 0, 0, 0.6],\n",
       " [8.742, -4.258, -83.31, 0, 1, 0, 0.4],\n",
       " [14.769, -4.258, -153.273, 0, 1, 0, 0.1],\n",
       " [22.374, -5.362, -94.388, 0, 0, 0, 0.0],\n",
       " [16.758, -4.258, -83.257, 0, 0, 0, 0.6],\n",
       " [24.972, 12.351, -147.453, 1, 1, 1, 0.6],\n",
       " [24.864, -1.234, -126.455, 0, 1, 0, 0.3],\n",
       " [20.056, 11.391, -150.438, 1, 1, 1, 0.5],\n",
       " [31.246, 4.971, -150.438, 1, 1, 1, 0.5],\n",
       " [17.202, 9.471, -150.438, 1, 1, 1, 0.5],\n",
       " [21.252, 6.363, -175.746, 0, 0, 0, 0.6],\n",
       " [8.67, 1.191, -213.418, 0, 1, 0, 0.3],\n",
       " [4.659, 11.391, -147.453, 1, 1, 1, 0.6],\n",
       " [8.742, 7.323, -126.455, 0, 1, 0, 0.3],\n",
       " [10.578, 4.071, -94.388, 0, 0, 0, 0.1]]"
      ]
     },
     "execution_count": 140,
     "metadata": {},
     "output_type": "execute_result"
    }
   ],
   "source": [
    "X_all"
   ]
  },
  {
   "cell_type": "code",
   "execution_count": null,
   "metadata": {
    "collapsed": false
   },
   "outputs": [],
   "source": [
    "for i in range(1,10):\n",
    "    regr = process_with(X_all, y_all, info=True, ts=i/10.0)\n",
    "    print"
   ]
  },
  {
   "cell_type": "code",
   "execution_count": 134,
   "metadata": {
    "collapsed": false
   },
   "outputs": [
    {
     "name": "stdout",
     "output_type": "stream",
     "text": [
      "Total: 64, train: 57, test: 7\n",
      "Residual sum of squares: 5.83\n",
      "Train absolute: 1.96\n",
      "Test absolute: 1.90\n",
      "Absolute to mean: 29.63%\n",
      "Train variance score: 0.39\n",
      "Test variance score: 0.11\n"
     ]
    }
   ],
   "source": [
    "regr = process_with(X_all, y_all, info=True, ts=0.1)"
   ]
  },
  {
   "cell_type": "code",
   "execution_count": 138,
   "metadata": {
    "collapsed": false
   },
   "outputs": [
    {
     "name": "stdout",
     "output_type": "stream",
     "text": [
      "Real: 10.000000 \t Predicted: 7.807188\n",
      "[1.0, 4.971, -0.7049, 1, 1, 1, 0.5]\n",
      "\n",
      "Real: 10.000000 \t Predicted: 7.482312\n",
      "[0.4555, 9.471, -0.7049, 1, 1, 1, 0.5]\n",
      "\n",
      "Real: 10.000000 \t Predicted: 7.448450\n",
      "[0.3155, 9.471, -0.7049, 1, 1, 1, 0.5]\n",
      "\n",
      "Real: 10.000000 \t Predicted: 7.787534\n",
      "[0.6992, 3.734, -0.7049, 1, 1, 1, 0.5]\n",
      "\n",
      "Real: 9.000000 \t Predicted: 3.675460\n",
      "[0.5285, -1.294, -0.3974, 0, 0, 0, 0.2]\n",
      "\n",
      "Real: 8.000000 \t Predicted: 6.830363\n",
      "[0.5137, 3.195, -1.0, 0, 1, 0, 0.2]\n",
      "\n",
      "Real: 8.000000 \t Predicted: 7.047286\n",
      "[0.4541, -2.194, -1.0, 0, 1, 0, 0.2]\n",
      "\n",
      "Real: 7.000000 \t Predicted: 8.035695\n",
      "[0.6888, -5.218, -0.8235, 0, 0, 0, 0.6]\n",
      "\n",
      "Real: 6.000000 \t Predicted: 0.810060\n",
      "[0.2798, -4.258, -0.3904, 0, 1, 0, 0.4]\n",
      "\n",
      "Real: 5.000000 \t Predicted: 4.320903\n",
      "[0.4727, -4.258, -0.7182, 0, 1, 0, 0.1]\n",
      "\n",
      "Real: 4.000000 \t Predicted: 4.440375\n",
      "[0.7161, -5.362, -0.4423, 0, 0, 0, 0.0]\n",
      "\n",
      "Real: 3.000000 \t Predicted: 3.553173\n",
      "[0.5363, -4.258, -0.3901, 0, 0, 0, 0.6]\n",
      "\n",
      "Real: 2.000000 \t Predicted: 7.255230\n",
      "[0.7992, 12.351, -0.6909, 1, 1, 1, 0.6]\n",
      "\n",
      "Real: 1.000000 \t Predicted: 2.903175\n",
      "[0.7957, -1.234, -0.5925, 0, 1, 0, 0.3]\n",
      "\n"
     ]
    }
   ],
   "source": [
    "import warnings\n",
    "warnings.filterwarnings(\"ignore\")\n",
    "for i in range(0,len(y_4)):    \n",
    "    print \"Real: %f \\t Predicted: %f\" %(y_4[i], regr.predict(X_4[i]))\n",
    "    print X_4[i]\n",
    "    print\n",
    "    #print y_5[i]\n",
    "    #print regr.predict(X_5[i])[0]"
   ]
  },
  {
   "cell_type": "code",
   "execution_count": 137,
   "metadata": {
    "collapsed": false
   },
   "outputs": [
    {
     "name": "stdout",
     "output_type": "stream",
     "text": [
      "Features sorted by their score:\n",
      "-0.457882626999\n",
      "10\n",
      "0.2419\n",
      "-0.0429\n",
      "-10.1625\n",
      "2.0337\n",
      "-2.7727\n",
      "2.0337\n",
      "-0.4431\n"
     ]
    }
   ],
   "source": [
    "print \"Features sorted by their score:\"\n",
    "#f = sorted(zip(map(lambda x: round(x, 4), regr.coef_), FEATURES), reverse=True)\n",
    "f = zip(map(lambda x: round(x, 4), regr.coef_), FEATURES)\n",
    "print regr.intercept_\n",
    "print len(FEATURES)\n",
    "for i in f:\n",
    "    #print \"%4f \\t %s\" %(i[0], i[1])\n",
    "    print i[0] #, i[1]"
   ]
  },
  {
   "cell_type": "code",
   "execution_count": null,
   "metadata": {
    "collapsed": false
   },
   "outputs": [],
   "source": [
    "ind = [map(lambda x: x[1], f).index(i) for i in FEATURES]\n",
    "for i in ind:\n",
    "    print i+1"
   ]
  },
  {
   "cell_type": "code",
   "execution_count": null,
   "metadata": {
    "collapsed": false
   },
   "outputs": [],
   "source": [
    "plt.plot([i[22] for i in X])\n",
    "plt.show()"
   ]
  },
  {
   "cell_type": "code",
   "execution_count": null,
   "metadata": {
    "collapsed": false
   },
   "outputs": [],
   "source": [
    "print FEATURES[8]\n",
    "[i[22] for i in X]"
   ]
  },
  {
   "cell_type": "code",
   "execution_count": null,
   "metadata": {
    "collapsed": false
   },
   "outputs": [],
   "source": [
    "for k in range(0,26):\n",
    "    print FEATURES[k], 10 - [i[k] for i in X].count(0)"
   ]
  }
 ],
 "metadata": {
  "kernelspec": {
   "display_name": "Python 2",
   "language": "python",
   "name": "python2"
  },
  "language_info": {
   "codemirror_mode": {
    "name": "ipython",
    "version": 2
   },
   "file_extension": ".py",
   "mimetype": "text/x-python",
   "name": "python",
   "nbconvert_exporter": "python",
   "pygments_lexer": "ipython2",
   "version": "2.7.6"
  }
 },
 "nbformat": 4,
 "nbformat_minor": 0
}
