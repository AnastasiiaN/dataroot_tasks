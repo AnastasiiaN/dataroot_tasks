{
 "cells": [
  {
   "cell_type": "code",
   "execution_count": 28,
   "metadata": {
    "collapsed": false
   },
   "outputs": [
    {
     "name": "stdout",
     "output_type": "stream",
     "text": [
      "10\n",
      "230\n"
     ]
    }
   ],
   "source": [
    "import json\n",
    "import matplotlib.pyplot as plt\n",
    "import numpy as np\n",
    "from sklearn import datasets, linear_model\n",
    "from sklearn import preprocessing\n",
    "from sklearn import cross_validation\n",
    "from sklearn.feature_selection import VarianceThreshold\n",
    "with open('./max/estims.json') as data_file: \n",
    "    estims_data = json.load(data_file)[1]['clinics']\n",
    "print len(estims_data)\n",
    "#with open('./max/меланома_все.json') as data_file: #2\n",
    "#with open('./max/рак_груди_все.json') as data_file: #0\n",
    "#with open('./max/рак_простаты_все.json') as data_file: #4\n",
    "with open('./max/рак_шейки_матки_все.json') as data_file: #1\n",
    "#with open('./max/рак_щитовидки_все.json') as data_file: #3\n",
    "    cancer_data = json.load(data_file)[0]['clinics']\n",
    "print len(cancer_data)"
   ]
  },
  {
   "cell_type": "code",
   "execution_count": 5,
   "metadata": {
    "collapsed": true
   },
   "outputs": [],
   "source": [
    "FEATURES = [\"views\", \"large\", \"top\", \"price_level\", \"speed_level\", \"count_orders\", \"count_orders_success\", \"count_reviews\", \"count_reviews_for_illness\", \"top_proc_cli\", \"gen_proc_cli\", \"top_oper_cli\", \"gen_oper_cli\", \"doc_count\", \"doctor_prof_count\", \"doctor_doc_count\", \"max_exp_doc\", \"mean_exp_doc\", \"max_h_index\", \"mean_h_index\", \"doc_top_diag\", \"doc_gen_diag\", \"doc_top_oper\", \"doc_gen_oper\", \"ill_cli\", \"lang_cli\", \"specialist\", \"experience\", \"variety\", \"price\"]"
   ]
  },
  {
   "cell_type": "code",
   "execution_count": 257,
   "metadata": {
    "collapsed": false
   },
   "outputs": [
    {
     "name": "stdout",
     "output_type": "stream",
     "text": [
      "[u'1', u'109', u'262', u'264', u'273', u'78', u'8', u'87', u'96']\n",
      "[u'1', u'100', u'101', u'102', u'103', u'104', u'105', u'106', u'107', u'108', u'109', u'110', u'111', u'112', u'113', u'114', u'119', u'122', u'123', u'124', u'125', u'126', u'127', u'128', u'129', u'130', u'131', u'132', u'133', u'134', u'135', u'136', u'137', u'138', u'139', u'140', u'141', u'142', u'143', u'144', u'145', u'146', u'147', u'148', u'149', u'150', u'151', u'152', u'153', u'156', u'158', u'159', u'16', u'160', u'161', u'162', u'163', u'164', u'165', u'166', u'167', u'169', u'17', u'170', u'171', u'172', u'173', u'174', u'175', u'176', u'177', u'178', u'179', u'180', u'181', u'182', u'183', u'184', u'185', u'186', u'187', u'188', u'190', u'192', u'20', u'205', u'208', u'209', u'21', u'210', u'211', u'212', u'213', u'214', u'215', u'216', u'217', u'218', u'22', u'220', u'221', u'222', u'223', u'224', u'225', u'226', u'227', u'228', u'229', u'23', u'230', u'231', u'232', u'233', u'234', u'235', u'236', u'238', u'239', u'240', u'241', u'242', u'243', u'244', u'245', u'246', u'247', u'248', u'249', u'250', u'251', u'252', u'253', u'254', u'255', u'256', u'257', u'258', u'259', u'260', u'261', u'262', u'263', u'264', u'265', u'266', u'267', u'268', u'269', u'270', u'271', u'272', u'273', u'274', u'275', u'277', u'278', u'279', u'28', u'280', u'281', u'29', u'3', u'30', u'32', u'33', u'34', u'35', u'37', u'38', u'39', u'4', u'40', u'41', u'42', u'43', u'44', u'45', u'46', u'47', u'48', u'49', u'50', u'51', u'52', u'53', u'54', u'55', u'56', u'60', u'61', u'62', u'63', u'64', u'65', u'66', u'67', u'68', u'69', u'71', u'72', u'73', u'74', u'75', u'76', u'77', u'78', u'79', u'8', u'80', u'81', u'82', u'83', u'84', u'85', u'86', u'87', u'88', u'89', u'9', u'90', u'91', u'92', u'93', u'94', u'95', u'96', u'97', u'98', u'99']\n"
     ]
    }
   ],
   "source": [
    "clinic_ids = [i['id'] for i in estims_data]\n",
    "#estims_data.pop(clinic_ids.index('0'))\n",
    "print sorted(clinic_ids)\n",
    "print sorted([i['id'] for i in cancer_data])"
   ]
  },
  {
   "cell_type": "code",
   "execution_count": 6,
   "metadata": {
    "collapsed": false
   },
   "outputs": [],
   "source": [
    "def extract_data(clinic, clinic_estim):\n",
    "    all_proc = clinic['procedures']['diagnostics'] + clinic['procedures']['operations']\n",
    "    all_doc = clinic['doctors']\n",
    "    X = []\n",
    "    X+=[int(clinic['views'])]\n",
    "    X+=[int(clinic['large'])]\n",
    "    X+=[int(clinic['top'])]\n",
    "    X+=[int(clinic['price_level'])]\n",
    "    X+=[int(clinic['speed_level'])]\n",
    "    X+=[int(clinic['count_orders'])]\n",
    "    X+=[int(clinic['count_orders_success'])]\n",
    "    X+=[int(clinic['count_reviews'])]\n",
    "    X+=[int(clinic['count_reviews_for_illness'])]\n",
    "    X+=[sum([int(i['top']) for i in all_proc])] #top_proc_cli\n",
    "    X+=[len(all_proc)] #gen_proc_cli\n",
    "    X+=[sum([int(i['top']) for i in clinic['procedures']['operations']])] #top_oper_cli\n",
    "    X+=[len(clinic['procedures']['operations'])] #gen_oper_cli\n",
    "    X+=[len(clinic['doctors'])] #doc_count\n",
    "    X+=[[i['degree'] for i in all_doc].count(u'Профессор')]    #doctor_prof_count\n",
    "    X+=[[i['degree'] for i in all_doc].count(u'Доцент')]    #doctor_doc_count\n",
    "    try:\n",
    "        X+=[max([int(i['experience']) for i in all_doc])] #max_exp_doc\n",
    "        X+=[np.mean([int(i['experience']) for i in all_doc])] #mean_exp_doc\n",
    "    except ValueError:\n",
    "        X+=[0,0]\n",
    "    try:\n",
    "        X+=[max([int(i['h_index']) for i in all_doc])] #max_h_index\n",
    "        X+=[np.mean([int(i['h_index']) for i in all_doc])] #mean_h_index\n",
    "    except ValueError:\n",
    "        X+=[0,0]\n",
    "    #doc_top_diag\n",
    "    tops = [i['procedures']['diagnostics'] for i in all_doc]\n",
    "    ids_diad = [i['id'] for i in sum(tops,[]) if i['top']=='1']\n",
    "    X+=[len(list(set(ids_diad)))]\n",
    "    #doc_gen_diag\n",
    "    tops = [i['procedures']['diagnostics'] for i in all_doc]\n",
    "    ids = [i['id'] for i in sum(tops,[])]\n",
    "    X+=[len(list(set(ids)))]\n",
    "    #doc_top_oper\n",
    "    tops = [i['procedures']['operations'] for i in all_doc]\n",
    "    ids = [i['id'] for i in sum(tops,[]) if i['top']=='1']\n",
    "    X+=[len(list(set(ids)))]\n",
    "    #doc_gen_oper\n",
    "    tops = [i['procedures']['operations'] for i in all_doc]\n",
    "    ids = [i['id'] for i in sum(tops,[])]\n",
    "    X+=[len(list(set(ids)))]\n",
    "    #ill_cli\n",
    "    tops = [i['illnesses'] for i in all_doc]\n",
    "    ids = [i['id'] for i in sum(tops,[])]\n",
    "    X+=[len(list(set(ids)))]\n",
    "    #lang_cli\n",
    "    tops = [i['languages'] for i in all_doc]\n",
    "    ids = [i['id'] for i in sum(tops,[])]\n",
    "    X+=[len(list(set(ids)))]\n",
    "    X+=[int(clinic_estim['specialist'])]\n",
    "    X+=[int(clinic_estim['experience'])]\n",
    "    X+=[int(clinic_estim['variety'])]\n",
    "    X+=[int(clinic_estim['price'])]\n",
    "    y=int(clinic_estim['rating'])\n",
    "    return [X, y]"
   ]
  },
  {
   "cell_type": "code",
   "execution_count": 7,
   "metadata": {
    "collapsed": true
   },
   "outputs": [],
   "source": [
    "def get_X_y_from(t_data):\n",
    "    clinic_ids = [i['id'] for i in t_data]\n",
    "    t_cleaned_data = [extract_data(cancer_data[clinic_ids.index(i['id'])], i) for i in estims_data]\n",
    "    X = np.array([i[0] for i in t_cleaned_data])\n",
    "    y = np.array([i[1] for i in t_cleaned_data])\n",
    "    return X,y"
   ]
  },
  {
   "cell_type": "code",
   "execution_count": 8,
   "metadata": {
    "collapsed": true
   },
   "outputs": [],
   "source": [
    "def process_with(X,y, info=False, short=False, return_short = False, new_coef = [], ts=0.2):\n",
    "    train_X, test_X, train_y, test_y = cross_validation.train_test_split(X, y, test_size = ts, random_state = 3)\n",
    "    regr = linear_model.LinearRegression(fit_intercept=False, normalize=False)\n",
    "    if new_coef != []:\n",
    "        print \"new coefs\"\n",
    "        regr.coef_ = new_coef\n",
    "    regr.fit(train_X, train_y)\n",
    "    if info:\n",
    "        print \"Total: %d, train: %d, test: %d\" %(len(X), len(train_X), len(test_X))\n",
    "        print(\"Residual sum of squares: %.2f\"% np.mean((regr.predict(test_X) - test_y) ** 2))\n",
    "        print(\"Train absolute: %.2f\"% np.mean(abs(regr.predict(train_X) - train_y)))\n",
    "        print(\"Test absolute: %.2f\"% np.mean(abs(regr.predict(test_X) - test_y)))\n",
    "        print(\"Absolute to mean: %.2f%%\"% (np.mean(abs(regr.predict(test_X) - test_y))/np.mean(test_y)*100))\n",
    "        print('Train variance score: %.2f' % regr.score(train_X, train_y))\n",
    "        print('Test variance score: %.2f' % regr.score(test_X, test_y))\n",
    "    if short:\n",
    "        print np.mean(abs(regr.predict(test_X) - test_y)),regr.score(test_X, test_y)\n",
    "    if return_short:\n",
    "        return np.mean(abs(regr.predict(test_X) - test_y)),regr.score(test_X, test_y)\n",
    "    return regr"
   ]
  },
  {
   "cell_type": "code",
   "execution_count": 29,
   "metadata": {
    "collapsed": false
   },
   "outputs": [],
   "source": [
    "X, y = get_X_y_from(cancer_data)"
   ]
  },
  {
   "cell_type": "code",
   "execution_count": 2,
   "metadata": {
    "collapsed": false
   },
   "outputs": [
    {
     "ename": "NameError",
     "evalue": "name 'X_1' is not defined",
     "output_type": "error",
     "traceback": [
      "\u001b[1;31m---------------------------------------------------------------------------\u001b[0m",
      "\u001b[1;31mNameError\u001b[0m                                 Traceback (most recent call last)",
      "\u001b[1;32m<ipython-input-2-7890161091b7>\u001b[0m in \u001b[0;36m<module>\u001b[1;34m()\u001b[0m\n\u001b[0;32m      1\u001b[0m \u001b[1;32mfor\u001b[0m \u001b[0mi\u001b[0m \u001b[1;32min\u001b[0m \u001b[0mrange\u001b[0m\u001b[1;33m(\u001b[0m\u001b[1;36m1\u001b[0m\u001b[1;33m,\u001b[0m\u001b[1;36m10\u001b[0m\u001b[1;33m)\u001b[0m\u001b[1;33m:\u001b[0m\u001b[1;33m\u001b[0m\u001b[0m\n\u001b[1;32m----> 2\u001b[1;33m     \u001b[0mregr\u001b[0m \u001b[1;33m=\u001b[0m \u001b[0mprocess_with\u001b[0m\u001b[1;33m(\u001b[0m\u001b[0mX_1\u001b[0m\u001b[1;33m,\u001b[0m \u001b[0my_1\u001b[0m\u001b[1;33m,\u001b[0m \u001b[0minfo\u001b[0m\u001b[1;33m=\u001b[0m\u001b[0mTrue\u001b[0m\u001b[1;33m,\u001b[0m \u001b[0mts\u001b[0m\u001b[1;33m=\u001b[0m\u001b[0mi\u001b[0m\u001b[1;33m/\u001b[0m\u001b[1;36m10.0\u001b[0m\u001b[1;33m)\u001b[0m\u001b[1;33m\u001b[0m\u001b[0m\n\u001b[0m\u001b[0;32m      3\u001b[0m     \u001b[1;32mprint\u001b[0m\u001b[1;33m\u001b[0m\u001b[0m\n",
      "\u001b[1;31mNameError\u001b[0m: name 'X_1' is not defined"
     ]
    }
   ],
   "source": [
    "for i in range(1,10):\n",
    "    regr = process_with(X, y, info=True, ts=i/10.0)\n",
    "    print"
   ]
  },
  {
   "cell_type": "code",
   "execution_count": 22,
   "metadata": {
    "collapsed": false
   },
   "outputs": [
    {
     "name": "stdout",
     "output_type": "stream",
     "text": [
      "Total: 10, train: 7, test: 3\n",
      "Residual sum of squares: 288.86\n",
      "Train absolute: 0.00\n",
      "Test absolute: 14.02\n",
      "Absolute to mean: 210.37%\n",
      "Train variance score: 1.00\n",
      "Test variance score: -98.99\n"
     ]
    }
   ],
   "source": [
    "regr = process_with(X, y, info=True, ts=0.3)"
   ]
  },
  {
   "cell_type": "code",
   "execution_count": 23,
   "metadata": {
    "collapsed": false
   },
   "outputs": [
    {
     "name": "stdout",
     "output_type": "stream",
     "text": [
      "Real: 10.000000 \t Predicted: 10.000000\n",
      "Real: 9.000000 \t Predicted: 25.197154\n",
      "Real: 8.000000 \t Predicted: 8.000000\n",
      "Real: 7.000000 \t Predicted: 7.000000\n",
      "Real: 6.000000 \t Predicted: 4.669362\n",
      "Real: 5.000000 \t Predicted: 29.545328\n",
      "Real: 4.000000 \t Predicted: 4.000000\n",
      "Real: 3.000000 \t Predicted: 3.000000\n",
      "Real: 2.000000 \t Predicted: 2.000000\n",
      "Real: 1.000000 \t Predicted: 1.000000\n"
     ]
    }
   ],
   "source": [
    "import warnings\n",
    "warnings.filterwarnings(\"ignore\")\n",
    "for i in range(0,len(y)):\n",
    "    print \"Real: %f \\t Predicted: %f\" %(y[i], regr.predict(X[i]))"
   ]
  },
  {
   "cell_type": "code",
   "execution_count": null,
   "metadata": {
    "collapsed": false
   },
   "outputs": [],
   "source": [
    "print \"Features sorted by their score:\"\n",
    "#f = sorted(zip(map(lambda x: round(x, 4), regr.coef_), FEATURES), reverse=True)\n",
    "f = zip(map(lambda x: round(x, 4), regr.coef_), FEATURES)\n",
    "print regr.intercept_\n",
    "print len(FEATURES)\n",
    "for i in f:\n",
    "    #print \"%4f \\t %s\" %(i[0], i[1])\n",
    "    print i[0]"
   ]
  },
  {
   "cell_type": "code",
   "execution_count": null,
   "metadata": {
    "collapsed": false
   },
   "outputs": [],
   "source": [
    "ind = [map(lambda x: x[1], f).index(i) for i in FEATURES]\n",
    "for i in ind:\n",
    "    print i+1"
   ]
  },
  {
   "cell_type": "code",
   "execution_count": 20,
   "metadata": {
    "collapsed": false
   },
   "outputs": [],
   "source": [
    "plt.plot([i[13] for i in X])\n",
    "plt.show()"
   ]
  },
  {
   "cell_type": "code",
   "execution_count": 30,
   "metadata": {
    "collapsed": false
   },
   "outputs": [
    {
     "name": "stdout",
     "output_type": "stream",
     "text": [
      "doc_count\n"
     ]
    },
    {
     "data": {
      "text/plain": [
       "[4.0, 1.0, 2.0, 1.0, 1.0, 1.0, 1.0, 1.0, 1.0, 1.0]"
      ]
     },
     "execution_count": 30,
     "metadata": {},
     "output_type": "execute_result"
    }
   ],
   "source": [
    "print FEATURES[13]\n",
    "[i[13] for i in X]"
   ]
  },
  {
   "cell_type": "code",
   "execution_count": 19,
   "metadata": {
    "collapsed": false
   },
   "outputs": [
    {
     "name": "stdout",
     "output_type": "stream",
     "text": [
      "views 10\n",
      "large 8\n",
      "top 2\n",
      "price_level 9\n",
      "speed_level 9\n",
      "count_orders 10\n",
      "count_orders_success 9\n",
      "count_reviews 9\n",
      "count_reviews_for_illness 2\n",
      "top_proc_cli 10\n",
      "gen_proc_cli 10\n",
      "top_oper_cli 6\n",
      "gen_oper_cli 10\n",
      "doc_count 5\n",
      "doctor_prof_count 3\n",
      "doctor_doc_count 1\n",
      "max_exp_doc 4\n",
      "mean_exp_doc 4\n",
      "max_h_index 5\n",
      "mean_h_index 5\n",
      "doc_top_diag 4\n",
      "doc_gen_diag 5\n",
      "doc_top_oper 0\n",
      "doc_gen_oper 5\n",
      "ill_cli 5\n",
      "lang_cli 1\n"
     ]
    }
   ],
   "source": [
    "for k in range(0,26):\n",
    "    print FEATURES[k], 10 - [i[k] for i in X].count(0)"
   ]
  }
 ],
 "metadata": {
  "kernelspec": {
   "display_name": "Python 2",
   "language": "python",
   "name": "python2"
  },
  "language_info": {
   "codemirror_mode": {
    "name": "ipython",
    "version": 2
   },
   "file_extension": ".py",
   "mimetype": "text/x-python",
   "name": "python",
   "nbconvert_exporter": "python",
   "pygments_lexer": "ipython2",
   "version": "2.7.6"
  }
 },
 "nbformat": 4,
 "nbformat_minor": 0
}
